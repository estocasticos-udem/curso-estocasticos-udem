{
 "cells": [
  {
   "cell_type": "code",
   "execution_count": 2,
   "metadata": {},
   "outputs": [],
   "source": [
    "import numpy as np\n",
    "import pandas as pd\n",
    "from scipy.stats import trim_mean"
   ]
  },
  {
   "cell_type": "markdown",
   "metadata": {},
   "source": [
    "# Principios de conteo\n",
    "\n",
    "En construcción..."
   ]
  },
  {
   "cell_type": "markdown",
   "metadata": {},
   "source": [
    "* https://github.com/jonkrohn/ML-foundations/blob/master/notebooks/5-probability.ipynb\n",
    "* https://github.com/jonkrohn/ML-foundations/blob/master/notebooks/6-statistics.ipynb\n",
    "* https://github.com/jonkrohn/ML-foundations\n",
    "* https://github.com/unpingco/Python-for-Probability-Statistics-and-Machine-Learning\n",
    "* https://github.com/Quantreo/UDEMY-STATISTIC-AND-PROBABILITY-for-quantitative-finance\n",
    "* https://github.com/ArmanBehnam/Courses\n",
    "* https://github.com/ElizaLo/Data-Science\n",
    "* https://github.com/Probability-Statistics-Jupyter-Notebook\n",
    "* https://ipython-books.github.io/154-computing-exact-probabilities-and-manipulating-random-variables/\n",
    "* https://realpython.com/python-itertools/\n",
    "\n",
    "Otros\n",
    "\n",
    "* https://www.cs.rpi.edu/~zaki/DMML/slides/pdf/ychap18.pdf\n",
    "* https://rpubs.com/jreigarcia/irisdataset\n",
    "* https://medium.com/analytics-vidhya/first-step-to-statistics-with-iris-data-3d29c0820c5d\n",
    "* https://www.kaggle.com/code/neha99/statistical-analysis-on-iris-dataset\n",
    "* https://www.kaggle.com/code/hassanamin/probability-and-statistics-with-python\n",
    "* https://www.geeksforgeeks.org/exploratory-data-analysis-on-iris-dataset/\n",
    "* http://www.lac.inpe.br/~rafael.santos/Docs/CAP394/WholeStory-Iris.html\n",
    "* https://courses.cs.ut.ee/MTAT.03.183/2017_spring/uploads/Main/example_submission.html\n",
    "* https://www.humanitiesdataanalysis.org/index.html\n",
    "* https://www.cs.bu.edu/fac/snyder/cs237/tutorials/LearningPython.html\n",
    "* https://risk-engineering.org/notebook/coins-dice.html\n",
    "* https://web.stanford.edu/class/archive/cs/cs109/cs109.1192/handouts/pythonForProbability.html\n",
    "  "
   ]
  }
 ],
 "metadata": {
  "kernelspec": {
   "display_name": "Python 3.8.8 ('base')",
   "language": "python",
   "name": "python3"
  },
  "language_info": {
   "codemirror_mode": {
    "name": "ipython",
    "version": 3
   },
   "file_extension": ".py",
   "mimetype": "text/x-python",
   "name": "python",
   "nbconvert_exporter": "python",
   "pygments_lexer": "ipython3",
   "version": "3.9.13"
  },
  "vscode": {
   "interpreter": {
    "hash": "e06ff7da33dc9620448857a90ad8b5f428f0d573d205a934d2841c8aee45ea32"
   }
  },
  "widgets": {
   "application/vnd.jupyter.widget-state+json": {
    "state": {},
    "version_major": 2,
    "version_minor": 0
   }
  }
 },
 "nbformat": 4,
 "nbformat_minor": 4
}
