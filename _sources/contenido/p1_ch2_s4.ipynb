{
 "cells": [
  {
   "cell_type": "code",
   "execution_count": 2,
   "metadata": {},
   "outputs": [],
   "source": [
    "import numpy as np\n",
    "import pandas as pd\n",
    "from scipy.stats import trim_mean"
   ]
  },
  {
   "cell_type": "markdown",
   "metadata": {},
   "source": [
    "# Reglas basicas de probabilidad"
   ]
  },
  {
   "cell_type": "markdown",
   "metadata": {},
   "source": [
    "Al calcular la probabilidad, hay que tener en cuenta dos reglas para determinar si dos eventos son independientes o dependientes y si son mutuamente excluyentes o no:\n",
    "* La regla de multiplicación.\n",
    "* La regla de adición"
   ]
  },
  {
   "cell_type": "markdown",
   "metadata": {},
   "source": [
    "## Regla de la multiplicación y la adición\n",
    "\n",
    "La regla de la multiplicación establece que:\n",
    "\n",
    "```{admonition} Regla de la multiplicación para dos eventos\n",
    "Si $A$ y $B$ son dos eventos definidos en un espacio muestral, entonces:\n",
    "\n",
    "$$\n",
    "P(A \\bigcap B)  = P(A|B)P(B)\n",
    "$$\n",
    "\n",
    "Para el caso en el que los eventos $A$ y $B$ son **independientes**, entonces $P(A|B) = P(A)$ de modo que la expresión queda como:\n",
    "\n",
    "$$\n",
    "P(A \\bigcap B)  = P(A)P(B)\n",
    "$$\n",
    "```\n",
    "\n",
    "Por otro lado la ley de la adición dice:\n",
    "\n",
    "```{admonition} Regla de la adición para dos eventos\n",
    "Si $A$ y $B$ son dos eventos definidos en un espacio muestral, entonces:\n",
    "\n",
    "$$\n",
    "P(A \\bigcup B)  = P(A) + P(B) - P(A \\bigcap B)\n",
    "$$\n",
    "\n",
    "Cuando los eventos $A$ y $B$ son **mutuamente excluyentes**, entonces $P(A \\bigcap B) = 0$ de modo que la expresión queda como:\n",
    "\n",
    "$$\n",
    "P(A \\bigcup B)  = P(A) + P(B)\n",
    "$$\n",
    "```"
   ]
  },
  {
   "cell_type": "markdown",
   "metadata": {},
   "source": [
    "### Ejemplos\n",
    "\n",
    "\n",
    "#### Ejemplo 1\n",
    "\n",
    "Suponga que el 60% de todos los clientes de un operador de telecomunicaciones se suscribe al servicio de Internet, el 40% se suscribe al servicio telefónico y el 25% tiene ambos tipos de servicios y realice lo que se pide a continuación\n",
    "1. Defina los eventos de acuerdo a la información suministrada.\n",
    "   \n",
    "   De acuerdo al enunciado podemos sacar los siguientes eventos de interes de acuerdo al enunciado:\n",
    "   * **E**: evento de que el cliente seleccionado tenga servicio de internet.\n",
    "   * **F**: evento de que el cliente seleccionado tenga servicio telefonico.\n",
    "\n",
    "   Ahora describimos en terminos de los eventos, la información que se nos da del problema:\n",
    "   *  $P(E) = 0.6$\n",
    "   *  $P(F) = 0.4$\n",
    "   *  $P(E\\;and\\;F) = 0.25$\n",
    "\n",
    "2. Si se selecciona un cliente al azar, ¿cuál es la probabilidad de que tenga al menos uno de estos dos tipos de servicio?\n",
    "   \n",
    "   Se pide $P(E\\;or\\;F)$ la cual se calcula la ley de la adición tenemos:\n",
    "   \n",
    "   $$\n",
    "   P(E\\;or\\;F) = P(E) + P(F) + P(E\\;and\\;F) = 0.6 + 0.4 - 0.25 = 0.75\n",
    "   $$\n",
    "   \n",
    "3. Si se selecciona un cliente al azar, ¿cuál es la probabilidad no este inscrito en ningun servicio?\n",
    "\n",
    "   Se pide $P(not (E\\;or\\;F))$ la cual podemos calcular como se muestra a continuación:\n",
    "   \n",
    "   $$\n",
    "   P(not (E\\;or\\;F)) = 1- P(E\\;or\\;F) = 1 - 0.75 = 0.25\n",
    "   $$\n",
    "\n",
    "4. Si se selecciona un cliente al azar, ¿cuál es la probabilidad este inscrito en exactamente un servicio?\n",
    "   \n",
    "   En terminos matematicos esto es: \n",
    "   \n",
    "   $$P(exactamente\\;uno) = P(minimo\\;uno) - P(ninguno) = P(E\\;or\\;F) - P(E\\;and\\;F)$$\n",
    "\n",
    "   $$P(exactamente\\;uno) = 0.75 - 0.25 = 0.5$$\n"
   ]
  },
  {
   "cell_type": "markdown",
   "metadata": {},
   "source": [
    "#### Ejemplo 2\n",
    "\n",
    "En una encuesta telefónica hecha a mil adultos, a los que respondieron se les preguntó acerca del gasto de una educación universitaria y la relativa necesidad de alguna forma de ayuda financiera. Quienes respondieron fueron clasificados de acuerdo a si actualmente tenían un hijo en la universidad y si pensaban que el interes de un préstamo para casi todos los estudiantes universitarios es demasiado alta, la cantidad correcta o es muy poco. Las proporciones de quienes contestaron se muestran en la tabla de probabilidad dada a continuación:\n",
    "\n",
    "||Demasiado alta (A)|Correcta (B)|Muy poco (C)|\n",
    "|---|---|---|---|\n",
    "|Con hijo en universidad|.35|.08|0.01|\n",
    "|Sin hijo en la universidad|.25|.20|.11|\n",
    "\n",
    "Si se definen los siguientes eventos:\n",
    "* A: El entrevistado piensa que el interes de un préstamo es demasiado alto\n",
    "* B: El entrevistado piensa que el interes de un préstamo tiene un valor adecuado.\n",
    "* C: El entrevistado piensa que el interes de un préstamo es muy poco.\n",
    "* D: El entrevistado tiene un hijo en la universidad.\n",
    "\n",
    "Suponga que un entrevistado se escoge al azar de entre este grupo:\n",
    "1. ¿Cuál es la probabilidad de que el entrevistado tenga un hijo en la universidad?\n",
    "   \n",
    "   De acuerdo a la información, tener un hijo en la universidad no depende de lo que responda de modo que:\n",
    "\n",
    "   $$\n",
    "   P(D) = P(D\\;and\\;A) + P(D\\;and\\;B) + P(D\\;and\\;C) = .35 + .08 + 0.01 = 0.44\n",
    "   $$ \n",
    "\n",
    "2. ¿Cuál es la probabilidad de que el entrevistado no tenga un hijo en la universidad?\n",
    "   \n",
    "   Para el caso se pide: $P(not\\;D) = P(D')$ de modo que:\n",
    "\n",
    "   $$\n",
    "   P(not\\;D) = P(D) = 1 - P(D) = 1 - 0.44 = 0.56\n",
    "   $$\n",
    "\n",
    "3. ¿Cuál es la probabilidad de que el entrevistado tenga un hijo en la universidad o piense que la carga de un préstamo es demasiado alta?\n",
    "   \n",
    "   En este caso nos piden: $P(D\\;or\\;A)$, inicialmente calculamos $P(A)$:\n",
    "   \n",
    "   $$\n",
    "   P(A) = P(D\\;and\\;A) + P(D'\\;or\\;A) = .35 + .25 = 0.6\n",
    "   $$\n",
    "   \n",
    "   Luego, al aplicar la ley de la adición tenemos:\n",
    "\n",
    "   $$\n",
    "   P(D\\;or\\;A) = P(D) + P(A) - P(D\\;and\\;A) = 0.56 + 0.44 - .35 = .69\n",
    "   $$\n",
    "\n",
    "4. ¿Los eventos D y A son independientes?\n",
    "   \n",
    "   Los eventos son independientes si se cumple que: $P(D\\;and\\;A) = P(D)P(A)$, para el caso tenemos:\n",
    "   * $P(D\\;and\\;A) = .69$\n",
    "   * $P(D)P(A) = (.44)(.6) = .264$\n",
    "\n",
    "   Como $P(D\\;and\\;A) \\neq P(D)P(A)$, entonces los eventos **no son independientes**"
   ]
  },
  {
   "cell_type": "markdown",
   "metadata": {},
   "source": [
    "## Generalización de la probabilidad total\n",
    "\n",
    "```{admonition} Ley de la probabilidad total\n",
    "Dados los eventos $B_1,\\;,B_2,\\;,B_3,\\;,...,B_k$ los cuales son mutuamente exclusivos con $P(B_1)+P(B_2)+P(B_3)+...+P(B_k) = 1$, entonces para cualquier evento $E$:\n",
    "\n",
    "$$\n",
    "P(E)  = P(E \\bigcap B_1) + P(E \\bigcap B_2) + ... + P(E \\bigcap B_k)\n",
    "P(E)  = P(E1|B_1)P(B_1) + P(E|B_2)P(B_2) + ... + P(E|B_k)P(B_k)\n",
    "$$\n",
    "```"
   ]
  },
  {
   "cell_type": "markdown",
   "metadata": {},
   "source": [
    "### Ejemplos"
   ]
  },
  {
   "cell_type": "markdown",
   "metadata": {},
   "source": [
    "#### Ejemplo 1\n",
    "\n",
    "Un niño tiene tres bolsas que contienen 100 canicas cada una:\n",
    "* La bolsa 1 tiene 75 canicas rojas y 25 azules;\n",
    "* la bolsa 2 tiene 60 canicas rojas y 40 azules;\n",
    "* La bolsa 3 tiene 45 canicas rojas y 55 azules.\n",
    "\n",
    "Si el niño elije una de las bolsas al azar y luego escoje una canica de la bolsa elegida, también al azar. ¿Cuál es la probabilidad de que la canica elegida sea roja?\n",
    "\n",
    "Solución en: https://www.probabilitycourse.com/chapter1/1_4_2_total_probability.php"
   ]
  },
  {
   "cell_type": "markdown",
   "metadata": {},
   "source": [
    "# Referencias"
   ]
  },
  {
   "cell_type": "markdown",
   "metadata": {},
   "source": [
    "* https://github.com/jonkrohn/ML-foundations/blob/master/notebooks/5-probability.ipynb\n",
    "* https://github.com/jonkrohn/ML-foundations/blob/master/notebooks/6-statistics.ipynb\n",
    "* https://github.com/jonkrohn/ML-foundations\n",
    "* https://github.com/unpingco/Python-for-Probability-Statistics-and-Machine-Learning\n",
    "* https://github.com/Quantreo/UDEMY-STATISTIC-AND-PROBABILITY-for-quantitative-finance\n",
    "* https://github.com/ArmanBehnam/Courses\n",
    "* https://github.com/ElizaLo/Data-Science\n",
    "* https://github.com/Probability-Statistics-Jupyter-Notebook\n",
    "* https://ipython-books.github.io/154-computing-exact-probabilities-and-manipulating-random-variables/\n",
    "* https://realpython.com/python-itertools/\n",
    "\n",
    "Otros\n",
    "\n",
    "* https://www.cs.rpi.edu/~zaki/DMML/slides/pdf/ychap18.pdf\n",
    "* https://rpubs.com/jreigarcia/irisdataset\n",
    "* https://medium.com/analytics-vidhya/first-step-to-statistics-with-iris-data-3d29c0820c5d\n",
    "* https://www.kaggle.com/code/neha99/statistical-analysis-on-iris-dataset\n",
    "* https://www.kaggle.com/code/hassanamin/probability-and-statistics-with-python\n",
    "* https://www.geeksforgeeks.org/exploratory-data-analysis-on-iris-dataset/\n",
    "* http://www.lac.inpe.br/~rafael.santos/Docs/CAP394/WholeStory-Iris.html\n",
    "* https://courses.cs.ut.ee/MTAT.03.183/2017_spring/uploads/Main/example_submission.html\n",
    "* https://www.humanitiesdataanalysis.org/index.html\n",
    "* https://www.cs.bu.edu/fac/snyder/cs237/tutorials/LearningPython.html\n",
    "* https://risk-engineering.org/notebook/coins-dice.html\n",
    "* https://web.stanford.edu/class/archive/cs/cs109/cs109.1192/handouts/pythonForProbability.html\n",
    "  "
   ]
  }
 ],
 "metadata": {
  "kernelspec": {
   "display_name": "Python 3.8.8 ('base')",
   "language": "python",
   "name": "python3"
  },
  "language_info": {
   "codemirror_mode": {
    "name": "ipython",
    "version": 3
   },
   "file_extension": ".py",
   "mimetype": "text/x-python",
   "name": "python",
   "nbconvert_exporter": "python",
   "pygments_lexer": "ipython3",
   "version": "3.9.13"
  },
  "vscode": {
   "interpreter": {
    "hash": "e06ff7da33dc9620448857a90ad8b5f428f0d573d205a934d2841c8aee45ea32"
   }
  },
  "widgets": {
   "application/vnd.jupyter.widget-state+json": {
    "state": {},
    "version_major": 2,
    "version_minor": 0
   }
  }
 },
 "nbformat": 4,
 "nbformat_minor": 4
}
