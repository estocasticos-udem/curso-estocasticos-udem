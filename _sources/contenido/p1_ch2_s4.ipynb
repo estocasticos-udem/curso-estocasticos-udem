{
 "cells": [
  {
   "cell_type": "code",
   "execution_count": 2,
   "metadata": {},
   "outputs": [],
   "source": [
    "import numpy as np\n",
    "import pandas as pd\n",
    "from scipy.stats import trim_mean"
   ]
  },
  {
   "cell_type": "markdown",
   "metadata": {},
   "source": [
    "# Reglas basicas de probabilidad"
   ]
  },
  {
   "cell_type": "markdown",
   "metadata": {},
   "source": [
    "## Probabilidad condicional\n",
    "\n",
    "```{admonition} Calculo de probabilidades condicionales\n",
    "Para encontrar la $P(A|B)$ se usa la expresión:\n",
    "\n",
    "$$P(A|B) = \\frac{P(A \\bigcap B)}{P(B)}$$\n",
    "\n",
    "Por otro lado, la probabilidad condicional $P(B|A)$ esta dada por:\n",
    "\n",
    "$$P(B|A) = \\frac{P(B \\bigcap A)}{P(A)}$$\n",
    "```\n"
   ]
  },
  {
   "cell_type": "markdown",
   "metadata": {},
   "source": [
    "# Estrategias para calcular la probabilidad de un evento\n",
    "\n",
    "A continuación se resumen un conjunto de pasos cuando se va a abordar un problema que implica calcular probabilidades.\n",
    "\n",
    "```{tip}\n",
    "1. Haga una lista de todos los eventos sencillos del espacio muestral.\n",
    "2. Asigne una probabilidad apropiada a cada evento simple.\n",
    "3. Determine cuáles eventos sencillos resultan en el evento de interés.\n",
    "4. Sume las probabilidades de los eventos sencillos que resulten en el evento de interés.\n",
    "```"
   ]
  },
  {
   "cell_type": "markdown",
   "metadata": {},
   "source": [
    "# Ejemplos usando python"
   ]
  },
  {
   "cell_type": "code",
   "execution_count": 1,
   "metadata": {},
   "outputs": [],
   "source": [
    "from fractions import Fraction\n",
    "\n",
    "# Calculo de la probabilidad\n",
    "def P(event, space): \n",
    "    \"The probability of an event, given a sample space.\"\n",
    "    return Fraction(cases(favorable(event, space)), \n",
    "                    cases(space))\n",
    "\n",
    "favorable = set.intersection # Outcomes that are in the event and in the sample space\n",
    "cases     = len              # The number of cases is the length, or size, of a set"
   ]
  },
  {
   "cell_type": "markdown",
   "metadata": {},
   "source": [
    "## Ejemplo 1\n",
    "Se tiene un mazo de cartas imparcial y bien mezclado de 52 cartas el cual consta de cuatro palos. Los palos son tréboles (T), diamantes (D), corazones (C) y picas (P). Hay 13 cartas en cada palo que consisten en 1, 2, 3, 4, 5, 6, 7, 8, 9, 10, J (sota), Q (reina) y K (rey) de ese palo. \n",
    "\n",
    "Si se saque dos cartas de un mazo estándar de 52 cartas con reemplazo. Calcule la probabilidad de obtener una carta negra como mínimo.\n",
    "\n",
    "**Definamos los eventos**:\n",
    "* $N$: El evento de sacar una carta negra.\n",
    "* $R$: El evento de sacar una carta roja.\n",
    "* $N_i$: El evento de sacar una carta negra en el intento $i-esimo$\n",
    "* $R_i$: El evento de sacar una carta roja en el intento $i-esimo$\n",
    "\n",
    "Lo que nos piden es:\n",
    "\n",
    "$$\n",
    "P((N_1 \\bigcap R_2) \\bigcup (R_1 \\bigcap N_2) \\bigcup (N_1 \\bigcap N_2)) = P(N_1R_2 + R_1N_2 + N_1N_2)\n",
    "$$ \n",
    "\n",
    "Asi: \n",
    "\n",
    "$$P(N_1R_2 + R_1N_2 + N_1N_2) = P(N_1R_2) + P(R_1N_2) + P(N_1N_2)$$\n",
    "\n",
    "Como los eventos $N_1$ y $N_2$ son idenpendientes tenemos que: \n",
    "\n",
    "$$P(N_1R_2 + R_1N_2 + N_1N_2) = P(N_1R_2) + P(R_1N_2) + P(N_1N_2) = P(N_1)P(R_2) + P(R_1)P(N_2) + P(N_1)P(N_2)$$\n",
    "\n",
    "Donde:\n",
    "\n",
    "$$P(N) = \\frac{N(N)}{N} = \\frac{N(T \\bigcup P)}{N} = \\frac{13 + 13}{52} = \\frac{26}{52} = \\frac{1}{2}$$\n",
    "\n",
    "$$P(R) = \\frac{N(R)}{N} = \\frac{N(H \\bigcup D)}{N} = \\frac{13 + 13}{52} = \\frac{26}{52} = \\frac{1}{2}$$\n",
    "\n",
    "Ademas: $P(N) = P(N) = P(N_i) = P(R_i) = \\frac{1}{2}$\n",
    "\n",
    "$$\n",
    "P(N_1R_2 + R_1N_2 + N_1N_2) =  \n",
    "                                \\left ( \\frac{1}{2} \\right )\\left ( \\frac{1}{2} \\right ) + \n",
    "                                \\left ( \\frac{1}{2} \\right )\\left ( \\frac{1}{2} \\right ) + \n",
    "                                \\left ( \\frac{1}{2} \\right )\\left ( \\frac{1}{2} \\right ) \n",
    "$$\n",
    "\n",
    "$$\n",
    "P(N_1R_2 + R_1N_2 + N_1N_2) =  \\frac{3}{4} \n",
    "$$\n",
    "\n",
    "\n",
    "Esto tambien se pudierda haber hecho así:\n",
    "\n",
    "$$\n",
    "P(al\\;menos\\;una\\;negra) = 1 - (ninguna\\;negra) = 1 - P(ambas\\;rojas) = \n",
    "$$\n",
    "\n",
    "$$\n",
    "P(N_1R_2 + R_1N_2 + N_1N_2) = 1 - P(R_1R_2) = 1 - P(R_1)P(R_2) = 1 - \\left ( \\frac{1}{2} \\right )\\left ( \\frac{1}{2} \\right ) = 1 - \\frac{1}{4} = \\frac{3}{4}\n",
    "$$\n",
    "\n"
   ]
  },
  {
   "cell_type": "code",
   "execution_count": 23,
   "metadata": {},
   "outputs": [
    {
     "name": "stdout",
     "output_type": "stream",
     "text": [
      "--- Mazo de cartas (Espacio muestral) ---\n",
      "S = {'8♥', 'Q♣', 'Q♦', 'J♦', '3♥', '10♥', 'K♣', '2♦', '8♦', '3♠', 'K♥', '4♠', '1♦', '1♥', '9♣', '7♥', '7♦', '1♣', 'Q♥', '10♠', '9♦', 'K♠', 'Q♠', '7♠', '4♣', '6♣', '9♥', '10♣', '8♣', '8♠', '6♥', '5♦', '5♥', '2♣', '5♠', '3♣', '6♦', '2♠', 'K♦', 'J♣', '4♦', '2♥', '3♦', 'J♥', 'J♠', '9♠', '10♦', '6♠', '7♣', '5♣', '4♥', '1♠'}\n",
      "N = 52\n"
     ]
    }
   ],
   "source": [
    "# Espacio muestral\n",
    "palos = set(u'♥♠♦♣')\n",
    "rangos = u'K,Q,J,10,9,8,7,6,5,4,3,2,1'.split(sep = ',')\n",
    "mazo  = {r + s for r in rangos for s in palos}\n",
    "print(\"--- Mazo de cartas (Espacio muestral) ---\")\n",
    "print(\"S = \", mazo, sep = \"\")\n",
    "print(\"N = \", len(mazo), sep = \"\")\n"
   ]
  },
  {
   "cell_type": "code",
   "execution_count": 32,
   "metadata": {},
   "outputs": [
    {
     "name": "stdout",
     "output_type": "stream",
     "text": [
      "--- Cartas negras ---\n",
      "N = {'Q♣', 'K♣', '3♠', '4♠', '9♣', '1♣', '10♠', 'K♠', 'Q♠', '7♠', '4♣', '6♣', '8♣', '10♣', '8♠', '2♣', '5♠', '3♣', '2♠', 'J♣', 'J♠', '9♠', '6♠', '7♣', '5♣', '1♠'}\n",
      "N(N) = 26\n",
      "P(N) = 1/2\n",
      "--- Cartas rojas ---\n",
      "R = {'8♥', 'Q♦', '3♥', 'J♦', '10♥', '2♦', '8♦', 'K♥', '1♦', '1♥', '7♦', '7♥', 'Q♥', '9♦', '9♥', '6♥', '5♦', '5♥', '6♦', 'K♦', '4♦', '2♥', '3♦', 'J♥', '10♦', '4♥'}\n",
      "N(N) = 26\n",
      "P(R) = 1/2\n",
      "Calculo de la probabilidad de sacar al menos una carta negra de dos cartas seleccionas con reemplazo\n",
      "Forma 1: P(al menos una negra) = 3/4\n",
      "Forma 2: P(al menos una negra) = 3/4\n"
     ]
    }
   ],
   "source": [
    "# Palos agrupados por color\n",
    "p_negra = set(u'♠♣')\n",
    "p_rojos = set(u'♥♠')\n",
    "\n",
    "# Funcion que determina si una carta es negra\n",
    "is_negra = lambda carta: carta[-1] in p_negra\n",
    "\n",
    "# Funcion que retorna un conjuto de cartas negras del mazo\n",
    "cartas_negras = set(filter(is_negra, mazo))\n",
    "\n",
    "print(\"--- Cartas negras ---\")\n",
    "print(\"N = \", cartas_negras, sep = \"\")\n",
    "print(\"N(N) = \", len(cartas_negras), sep = \"\")\n",
    "P_N = P(cartas_negras, mazo)\n",
    "print(\"P(N) = \",P_N , sep = \"\")\n",
    "\n",
    "print(\"--- Cartas rojas ---\")\n",
    "cartas_rojas = mazo - cartas_negras\n",
    "print(\"R = \", cartas_rojas, sep = \"\")\n",
    "print(\"N(N) = \", len(cartas_rojas), sep = \"\")\n",
    "P_R = P(cartas_rojas, mazo)\n",
    "print(\"P(R) = \", P_R, sep = \"\")\n",
    "\n",
    "\"\"\"\n",
    "Probabilidad de sacar al menos una carta negra cuando se sacan dos cartas del mazo (con reemplazo)\n",
    "\"\"\"\n",
    "print(\"Calculo de la probabilidad de sacar al menos una carta negra de dos cartas seleccionas con reemplazo\")\n",
    "\n",
    "# Forma 1\n",
    "P_min1_negra_f1 = P_N*P_R + P_R*P_N + P_N*P_N\n",
    "print(\"Forma 1: P(al menos una negra) = \", P_min1_negra_f1, sep = \"\")\n",
    "\n",
    "# Forma 2\n",
    "P_min1_negra_f2 = 1 - P_R*P_R\n",
    "print(\"Forma 2: P(al menos una negra) = \", P_min1_negra_f2, sep = \"\")\n"
   ]
  },
  {
   "cell_type": "markdown",
   "metadata": {},
   "source": [
    "## Ejemplo 2\n",
    "\n",
    "Un lote de 10000 chips de computadora utilizados en calculadoras gráficas consta de 2500 fabricados por una empresa y 7500 fabricados por una segunda empresa, todos mezclados. Si se seleccionan tres chips al azar sin reemplazo y se definen los siguintes eventos:\n",
    "* $E_1$: Evento de que el primer chip sea fabricado por la empresa 1.\n",
    "* $E_2$: Evento de que el segundo chip sea fabricado por la empresa 1.\n",
    "* $E_3$: Evento de que el tercer chip sea fabricado por la empresa 1.\n",
    "\n",
    "**Preguntas**:\n",
    "1. ¿Si en el proceso de selección de chips, las dos primeras elecciones correspondieron a chips de la empresa 1, ¿Cual es la probabilidad de que el tercer elegido chip pertenezca a la empresa 1?\n",
    "   \n",
    "   Para este caso nos piden: $P(E_3|E_2\\;and\\;E_1)$. Para resolver esto, observemos la siguiente tabla en la cual se muestra el proceso de selección: $ \\left \\{ E_1, E_2, E_3 \\right \\} = \\left \\{chip\\;empresa\\;1, chip\\;empresa\\;1,chip\\;empresa\\;1\\right \\}$:\n",
    "   \n",
    "   |Selección|1|2|3|\n",
    "   |--|--|--|---|\n",
    "   |Chip elegido|Empresa 1|Empresa 1| Empresa 1|\n",
    "   |Total chips|10000|9999|9998|\n",
    "   |Total chips empresa 1|2500|2499|2498|\n",
    "   |Total chips empresa 2|7500|7500|7500|\n",
    "\n",
    "   De este modo tenemos que:\n",
    "\n",
    "   $$\n",
    "   P(E_3|E_2\\;and\\;E_1)) = \\frac{N(E_3 | E_2\\;and\\;E_1)}{N} = \\frac{2498}{9998} = 0.24985\n",
    "   $$\n",
    "\n",
    "2. ¿Si las dos primeras elecciones correspondieron a chips de la empresa 2, ¿Cual es la probabilidad de que el tercer elegido chip pertenezca a la empresa 1?\n",
    "\n",
    "   Lo que se nos pide en este caso es: $P(E_3|not\\;E_2\\;and\\;not\\;E_1) = P(E_3|E_2'\\;and\\;E_1')$\n",
    "\n",
    "   El proceso de selección dá la siguiente secuencia: $\\left \\{ E_1, E_2, E_3 \\right \\} = \\left \\{chip\\;empresa\\;2, chip\\;empresa\\;2,chip\\;empresa\\;1\\right \\}$ la cual se detalla en la siguiente tabla: \n",
    "\n",
    "   |Selección|1|2|3|\n",
    "   |--|--|--|---|\n",
    "   |Chip elegido|Empresa 2|Empresa 2| Empresa 1|\n",
    "   |Total chips|10000|9999|9998|\n",
    "   |Total chips empresa 1|2500|2500|2500|\n",
    "   |Total chips empresa 2|7500|7499|7498|\n",
    "\n",
    "   De este modo tenemos que:\n",
    "\n",
    "   $$\n",
    "   P(E_3|E_2'\\;and\\;E_1')) = \\frac{N(E_3 | E_2'\\;and\\;E_1')}{N} = \\frac{2500}{9998}= 0.25005\n",
    "   $$"
   ]
  },
  {
   "cell_type": "code",
   "execution_count": 58,
   "metadata": {},
   "outputs": [
    {
     "name": "stdout",
     "output_type": "stream",
     "text": [
      "Inventario antes de la selección 1: [2500, 7500]\n",
      "Secuencia seleccionada: \n",
      "1 -> Chip empresa 1\n",
      "2 -> Chip empresa 1\n",
      "Inventario despues de la selección 1: [2498, 7500]\n",
      "P(E3 | E2 and E1) = 0.24985\n",
      "\n",
      "Inventario antes de la selección 2: [2500, 7500]\n",
      "[2500, 7500]\n",
      "Secuencia seleccionada: \n",
      "1 -> Chip empresa 2\n",
      "2 -> Chip empresa 2\n",
      "Inventario despues de la selección 2: [2500, 7498]\n",
      "P(E3 | E2' and E1') = 0.25005\n"
     ]
    }
   ],
   "source": [
    "# Solución python\n",
    "\n",
    "chips = [0,0]\n",
    "\n",
    "def init_inventario():\n",
    "    chips[0],chips[1] = 2500,7500\n",
    "\n",
    "# Actualiza el invetario dependiendo del chip elegido (Empresa 1 o 2)\n",
    "def elegir_chip(empresa):\n",
    "    try:\n",
    "        if empresa not in [1,2]:\n",
    "            raise IndexError        \n",
    "    except IndexError as error:\n",
    "        print(\"Solo exiten las empresas 1 y 2\")\n",
    "    else:\n",
    "        chips[empresa - 1] -= 1\n",
    "\n",
    "def seleccionar_chips(l_sel):\n",
    "    i = 1\n",
    "    for sel in l_sel:        \n",
    "        print(\"{} -> Chip empresa {}\".format(i,sel))\n",
    "        elegir_chip(sel)\n",
    "        i += 1\n",
    "     \n",
    "# Punto 1: seleccion = {chip empresa 1, chip empresa 1, chip empresa 1}\n",
    "init_inventario()\n",
    "print(\"Inventario antes de la selección 1:\",chips)\n",
    "sacadas_1 = (1,1) # El utlimo caso de seleccion \n",
    "print(\"Secuencia seleccionada: \")\n",
    "seleccionar_chips(sacadas_1)\n",
    "print(\"Inventario despues de la selección 1:\",chips)\n",
    "Prob_sel1 = float(Fraction(chips[0],sum(chips)))\n",
    "print(\"P(E3 | E2 and E1) = {:.5f}\".format(Prob_sel1))\n",
    "print()\n",
    "# Punto 2: seleccion = {chip empresa 2, chip empresa 2, chip empresa 1}\n",
    "init_inventario()\n",
    "print(\"Inventario antes de la selección 2:\",chips)\n",
    "print(chips)\n",
    "sacadas_2 = (2,2)\n",
    "print(\"Secuencia seleccionada: \")\n",
    "seleccionar_chips(sacadas_2)\n",
    "print(\"Inventario despues de la selección 2:\",chips)\n",
    "Prob_sel2 = float(Fraction(chips[0],sum(chips)))\n",
    "print(\"P(E3 | E2' and E1') = {:.5f}\".format(Prob_sel2))\n"
   ]
  },
  {
   "cell_type": "markdown",
   "metadata": {},
   "source": [
    "# Referencias"
   ]
  },
  {
   "cell_type": "markdown",
   "metadata": {},
   "source": [
    "* https://github.com/jonkrohn/ML-foundations/blob/master/notebooks/5-probability.ipynb\n",
    "* https://github.com/jonkrohn/ML-foundations/blob/master/notebooks/6-statistics.ipynb\n",
    "* https://github.com/jonkrohn/ML-foundations\n",
    "* https://github.com/unpingco/Python-for-Probability-Statistics-and-Machine-Learning\n",
    "* https://github.com/Quantreo/UDEMY-STATISTIC-AND-PROBABILITY-for-quantitative-finance\n",
    "* https://github.com/ArmanBehnam/Courses\n",
    "* https://github.com/ElizaLo/Data-Science\n",
    "* https://github.com/Probability-Statistics-Jupyter-Notebook\n",
    "* https://ipython-books.github.io/154-computing-exact-probabilities-and-manipulating-random-variables/\n",
    "* https://realpython.com/python-itertools/\n",
    "\n",
    "Otros\n",
    "\n",
    "* https://www.cs.rpi.edu/~zaki/DMML/slides/pdf/ychap18.pdf\n",
    "* https://rpubs.com/jreigarcia/irisdataset\n",
    "* https://medium.com/analytics-vidhya/first-step-to-statistics-with-iris-data-3d29c0820c5d\n",
    "* https://www.kaggle.com/code/neha99/statistical-analysis-on-iris-dataset\n",
    "* https://www.kaggle.com/code/hassanamin/probability-and-statistics-with-python\n",
    "* https://www.geeksforgeeks.org/exploratory-data-analysis-on-iris-dataset/\n",
    "* http://www.lac.inpe.br/~rafael.santos/Docs/CAP394/WholeStory-Iris.html\n",
    "* https://courses.cs.ut.ee/MTAT.03.183/2017_spring/uploads/Main/example_submission.html\n",
    "* https://www.humanitiesdataanalysis.org/index.html\n",
    "* https://www.cs.bu.edu/fac/snyder/cs237/tutorials/LearningPython.html\n",
    "* https://risk-engineering.org/notebook/coins-dice.html\n",
    "* https://web.stanford.edu/class/archive/cs/cs109/cs109.1192/handouts/pythonForProbability.html\n",
    "  "
   ]
  }
 ],
 "metadata": {
  "kernelspec": {
   "display_name": "Python 3.8.8 ('base')",
   "language": "python",
   "name": "python3"
  },
  "language_info": {
   "codemirror_mode": {
    "name": "ipython",
    "version": 3
   },
   "file_extension": ".py",
   "mimetype": "text/x-python",
   "name": "python",
   "nbconvert_exporter": "python",
   "pygments_lexer": "ipython3",
   "version": "3.9.13"
  },
  "vscode": {
   "interpreter": {
    "hash": "e06ff7da33dc9620448857a90ad8b5f428f0d573d205a934d2841c8aee45ea32"
   }
  },
  "widgets": {
   "application/vnd.jupyter.widget-state+json": {
    "state": {},
    "version_major": 2,
    "version_minor": 0
   }
  }
 },
 "nbformat": 4,
 "nbformat_minor": 4
}
