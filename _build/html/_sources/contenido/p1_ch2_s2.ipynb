{
 "cells": [
  {
   "cell_type": "code",
   "execution_count": 1,
   "metadata": {},
   "outputs": [],
   "source": [
    "import numpy as np\n",
    "import pandas as pd\n",
    "from scipy.stats import trim_mean"
   ]
  },
  {
   "cell_type": "code",
   "execution_count": 4,
   "metadata": {},
   "outputs": [],
   "source": [
    "from fractions import Fraction\n",
    "\n",
    "# Calculo de la probabilidad\n",
    "def P(event, space): \n",
    "    \"The probability of an event, given a sample space.\"\n",
    "    return Fraction(cases(favorable(event, space)), \n",
    "                    cases(space))\n",
    "\n",
    "favorable = set.intersection # Outcomes that are in the event and in the sample space\n",
    "cases     = len              # The number of cases is the length, or size, of a set"
   ]
  },
  {
   "cell_type": "markdown",
   "metadata": {},
   "source": [
    "# Eventos independientes y Mutuamente excluyentes"
   ]
  },
  {
   "cell_type": "markdown",
   "metadata": {},
   "source": [
    "## Probabilidad condicional\n",
    "\n",
    "```{admonition} Calculo de probabilidades condicionales\n",
    "Para encontrar la $P(A|B)$ se usa la expresión:\n",
    "\n",
    "$$P(A|B) = \\frac{P(A \\bigcap B)}{P(B)}$$\n",
    "\n",
    "Por otro lado, la probabilidad condicional $P(B|A)$ esta dada por:\n",
    "\n",
    "$$P(B|A) = \\frac{P(B \\bigcap A)}{P(A)}$$\n",
    "```\n"
   ]
  },
  {
   "cell_type": "markdown",
   "metadata": {},
   "source": [
    "### Ejemplo de repaso\n",
    "\n",
    "Las pautas médicas recomiendan que un paciente hospitalizado que sufre un paro cardíaco debe recibir una desfibrilación (descarga eléctrica en el corazón) dentro de los 2 minutos. El paper **\"Delayed Time to Defibrillation After In-Hospital Cardiac Arrest\" (The New England Journal of Medicine [2008]: 9–17)** ([link](https://www.nejm.org/doi/pdf/10.1056/NEJMoa0706467#:~:text=N%20Engl%20J%20Med%202008%3B358%3A9%2D17.&text=Expert%20guidelines%20advocate%20defibrillation%20within,effect%20on%20survival%20are%20limited)) describe un estudio del tiempo de desfibrilación para pacientes hospitalizados en hospitales de diferentes tamaños.\n",
    "\n",
    "Los autores examinaron los registros médicos de 6716 pacientes que sufrieron un paro cardíaco mientras estaban hospitalizados, registraron el tamaño del hospital y si la desfibrilación se produjo en 2 minutos o menos. Los datos de este estudio se resumen en la siguiente tabla:\n",
    "\n",
    "![tabla_infartos](p1_ch2_s2/ejemplo_prob_condicional.png)\n",
    "\n",
    "Suponiendo que estos datos son representativos del grupo más grande de todos los pacientes hospitalizados que sufren un paro cardíaco. Suponga que se selecciona al azar un paciente hospitalizado que sufrió un paro cardíaco. Si los siguientes eventos son de interés:\n",
    "* S = evento de que el paciente seleccionado se encuentre en un hospital pequeño.\n",
    "* M = evento de que el paciente seleccionado se encuentre en un hospital de tamaño medio.\n",
    "* L = evento de que el paciente seleccionado se encuentre en un hospital grande.\n",
    "* D = evento de que el paciente seleccionado reciba desfibrilación en dos minutos o menos.\n",
    "\n",
    "Calcular:\n",
    "1. La probabilidad de que un paciente hospitalizado reciba una desfibrilación de manera oportuna (en dos minutos o menos).\n",
    " \n",
    "   A partir de la tabla realizamos el calculo:\n",
    "\n",
    "   $P(D)=\\frac{4689}{6716} = 0.698$\n",
    "\n",
    "2. Si se selecciona un paciente que se encuentra dentro de un hospital pequeño, que tan probable es que dicho paciente reciba una desfibrilación en dos minutos o menos.\n",
    "\n",
    "   Tenemos que: $P(D|S)=\\frac{P(D \\bigcap S)}{P(S)}$\n",
    "\n",
    "   Primero se calcula la probabilidad de que el paciente hospitalizado en un hospital pequeño sufre el paro cardiaco y recibe la desfibrilación de manera oportuna:\n",
    "\n",
    "   $P(D \\bigcap S) = \\frac{1124}{6716} = 0.167$\n",
    "\n",
    "   Luego, la probabilidad de que el paciente que sufre el paro cardiado se encuentra hospitalizado en un hospital pequeño:\n",
    "\n",
    "   $P(S) = \\frac{1700}{6716}= 0.253$\n",
    "\n",
    "   Finalmente, usando estas dos expresiones calculamos la probabilidad condicional que se pide:\n",
    "\n",
    "   $P(D|S)=\\frac{P(D \\bigcap S)}{P(S)}=\\frac{0.167}{0.253} = 0.660$\n",
    "\n",
    "3. Cual es la probabilidad de recibir la desfibrilación dentro del tiempo adecuado para el caso en el cual el paciente es elegido den un hospital mediano.\n",
    "   \n",
    "   Nos piden: $P(D|M)$\n",
    "\n",
    "   $P(D|M)=\\frac{P(D \\bigcap M)}{P(M)}=\\frac{\\frac{2178}{6716}}{\\frac{3064}{6716}} = \\frac{2178}{3064} = 0.711$\n",
    "\n",
    "4. Cuando se selecciona el paciente de un hospital grande, ¿Cual es la probabilidad de que el paciente elegido reciba la desfibrilacion dentro del tiempo prudencial?\n",
    "   \n",
    "   En este caso se pide: $P(D|L)$\n",
    "\n",
    "   $P(D|L)=\\frac{P(D \\bigcap L)}{P(L)}=\\frac{\\frac{1387}{6716}}{\\frac{1952}{6716}} = \\frac{1387}{1952} = 0.711$"
   ]
  },
  {
   "cell_type": "markdown",
   "metadata": {},
   "source": [
    "## Tipos de eventos"
   ]
  },
  {
   "cell_type": "markdown",
   "metadata": {},
   "source": [
    "### Eventos independientes\n",
    "\n",
    "Dos eventos **$A$** y **$B$** son independientes si el conocimiento de que uno ha ocurrido no afecta la posibilidad de que ocurra el otro.\n",
    "\n",
    "```{admonition} Eventos independientes\n",
    "Si $A$ y $B$ son dos eventos independientes se cumple que: \n",
    "1. $P(A|B) = P(A)$\n",
    "2. $P(B|A) = P(B)$\n",
    "3. $P(A \\bigcap B) = P(A)P(B)$\n",
    "```\n",
    "\n",
    "Para demostrar que dos eventos son independientes, basta con demostrar **solo una** de las condiciones anteriormente mostradas.\n",
    "\n",
    "#### Ejemplo\n",
    "Los resultados de lanzar dos veces un dado imparcial son eventos independientes. El resultado de la primera lanzada no cambia la probabilidad del resultado de la segunda. "
   ]
  },
  {
   "cell_type": "markdown",
   "metadata": {},
   "source": [
    "### Eventos dependientes\n",
    "\n",
    "Si dos eventos **No** son independientes, decimos que **son dependientes**. En estos, el conocimiento de que un evento ha ocurrido cambia la probabilidad de que otro ocurra. \n",
    "\n",
    "#### Ejemplo\n",
    "\n",
    "Un ejemplo puede ser el caso de una población en la que el 0.1% de todos los individuos tiene determinada enfermedad. La presencia de la enfermedad no se puede discernir de apariencias externas, pero hay una prueba de diagnóstico disponible. Desafortunadamente, la prueba es no infalible: el 80% de los que tienen resultados positivos en la prueba en realidad tienen la enfermedad; la otro 20% que muestran resultados positivos en las pruebas son falsos positivos. \n",
    "\n"
   ]
  },
  {
   "cell_type": "markdown",
   "metadata": {},
   "source": [
    "### Eventos mutuamente excluyentes\n",
    "\n",
    "Dos eventos **A** y **B** son **eventos mutuamente excluyentes** si no pueden ocurrir al mismo tiempo.\n",
    "\n",
    "```{admonition} Eventos mutuamente excluyentes\n",
    "Si $A$ y $B$ son **eventos **mutuamente excluyentes** esto siguifica que $A$ y $B$ no comparten ningún resultado y por lo tanto: \n",
    "\n",
    "$$\n",
    "P(A \\bigcap B) = P(A)P(B)\n",
    "$$\n",
    "```\n",
    "\n",
    "#### Ejemplo \n",
    "\n",
    "Supongamos que el espacio muestral ```S = {1, 2, 3, 4, 5, 6, 7, 8, 9, 10}```. Supongamos que ```A = {1, 2, 3, 4, 5}```, ```B = {4, 5, 6, 7, 8}```, y ```C = {7, 9}```. Veamos los siguientes eventos:\n",
    "* **Caso donde los eventos no son mutuamente excluyentes**: Para el caso ```A and B = {4, 5}``` por lo que ```P(A and B) = 2/10``` y no es igual a cero. Por lo tanto, ```A``` y ```B``` no son mutuamente excluyentes. \n",
    "* **Caso donde los eventos son mutuamente excluyentes**: ```A``` y ```C``` no tienen ningún número en común por lo que ```P(A and C) = 0```. Por lo tanto, ```A``` y ```C``` son mutuamente excluyentes.\n",
    "\n",
    "\n",
    "```{tip}\n",
    "A continuación se enuncian unos tips importantes:\n",
    "* Si no se sabe si $A$ y $B$ son independientes o dependientes, suponga que son dependientes hasta que pueda demostrar lo contrario.\n",
    "* Si no se sabe si $A$ y $B$ son mutuamente excluyentes, suponga que no lo son hasta que pueda demostrar lo contrario. \n",
    "```"
   ]
  },
  {
   "cell_type": "markdown",
   "metadata": {},
   "source": [
    "### Ejemplos\n",
    "\n",
    "#### Ejemplo 1\n",
    "Se tiene un experimento en el que se elige a un adulto al azar y para el cual se definen los siguientes dos eventos:\n",
    "* A = la persona tiene un nivel de colesterol de 240 miligramos por decilitro de sangre (mg/dl) o superior (colesterol alto).\n",
    "* B = la persona tiene un nivel de colesterol de 200 a 239 mg/dl (colesterol alto en el límite).\n",
    "\n",
    "De acuerdo con la Asociación America del corazon, $P(A) = 0.16$ y $P(B) = 0.29$\n",
    "\n",
    "1. Explique por que los eventos $A$ y $B$ son mutuamente excluyentes.\n",
    "   \n",
    "   Los eventos A y B no se pueden dar al mismo tiempo pues una persona no pude tener a la vez el colesterol por debajo encima de 240 mg/dl y dentro del intervalo [200,239] a la vez. Por lo tanto para este caso:\n",
    "\n",
    "   $$\n",
    "   P(A\\;and\\;B) = 0\n",
    "   $$\n",
    "\n",
    "2. Diga en palabras lo que significa el evento $A\\;or\\;B$. ¿Cual es la probabilidad $P(A\\;or\\;B)$ ? \n",
    "  \n",
    "   $$\n",
    "   P(A\\;or\\;B) = P(A) + P(B) = 0.16 + 0.29 = 0.45\n",
    "   $$\n",
    "\n",
    "3. Si $C$ es el evento de que la persona elegida tenga un colesterol normal (por debajo de 200 mg/dl), ¿cuál es $P(C)$?\n",
    "   \n",
    "   Para el caso tenemos que: $P(C) = 1 - P(not\\;C)$, luego sabemos que $P(not\\;C) = P(A\\;or\\;B) = 0.45$ De modo que:\n",
    "\n",
    "   $$\n",
    "   P(C) = 1 - P(not\\;C) = 1 - P(A\\;or\\;B) = 1 - 0.45 = 0.55\n",
    "   $$\n",
    "\n",
    "\n",
    "\n",
    "\n"
   ]
  },
  {
   "cell_type": "markdown",
   "metadata": {},
   "source": [
    "#### Ejemplo 2\n",
    "\n",
    "Toda la sangre humana se puede clasificar en cuatro tipos distintos (O, A, B o AB); sin embargo, la distribución de los tipos varía un poco según la raza. La siguiente tabla muestra la distribución del tipo de sangre de un estadounidense negro elegido al azar:\n",
    "\n",
    "|Tipo de Sangre|O|A|B|AB|\n",
    "|---|---|---|---|---|\n",
    "|Probabilidad|0.49|0.27|0.20|?|\n",
    "\n",
    "1. ¿Cual es la probabilidad de que el tipo de sangre sea AB?\n",
    "   \n",
    "   $$\n",
    "   P(AB) = 1 - P(not\\;AB) = 1 - P(O\\;or\\;A\\;or\\;B)\n",
    "   $$\n",
    "\n",
    "   Como una persona no puede tener varios tipos de sangre distinta a la vez: $P(O\\;and\\;A\\;and\\;B) = 0$ y por lo tanto:\n",
    "\n",
    "   $$\n",
    "   P(O\\;or\\;A\\;or\\;B) = P(O) + P(A) + P(B) = 0.49 + 0.27 + 0.20 = 0.96\n",
    "   $$\n",
    "\n",
    "   Finalmente:\n",
    "\n",
    "   $$\n",
    "   P(AB) = 1 - P(not\\;AB) = 1 - P(O\\;or\\;A\\;or\\;B) = 1 - 0.96 = 0.04\n",
    "   $$\n",
    "\n",
    "2. ¿Cual es la probabilidad de que una persona seleccionada no tenga sangre tipo AB?\n",
    "\n",
    "   $$\n",
    "   P(not\\;AB) = 1 - P(AB) = 1 - 0.04 = 1 - 0.04 = 0.96\n",
    "   $$\n",
    "   \n",
    "3. María tiene sangre tipo B. Ella puede recibir con seguridad transfusiones de sangre de personas con tipo de sangre O y B. ¿Cuál es la probabilidad de que un elegido al azar americano negro puede donar sangre a María?\n",
    "\n",
    "El donande afroamericano que puede donar sangre a Maria debe tener sangre tipo O o tipo B de modo que:\n",
    "\n",
    "$$\n",
    "P(O\\;or\\;B) = P(O) + P(B) = 0.49 + 0.20 = 0.69\n",
    "$$\n"
   ]
  },
  {
   "cell_type": "markdown",
   "metadata": {},
   "source": [
    "## Muestreo\n",
    "\n",
    "El muestreo hace alusión a la técnica para la selección de una muestra a partir de una población.\n",
    "\n",
    "![tipos_de_muestreo](p1_ch2_s2/tipos_muestreo.png)\n",
    "\n",
    "De acuerdo a lo que se haga con la muestra, el muestreo se puede hacer con **reemplazo** o **sin reemplazo**."
   ]
  },
  {
   "cell_type": "markdown",
   "metadata": {},
   "source": [
    "### Muestreo con reemplazo\n",
    "\n",
    "```{admonition} Muestreo con reemplazo\n",
    "Cuando se hace un muestreo con reemplazo, el individuo u objeto seleccionado seleccionado (**muestra**), se vuelve a colocar en la población antes de la siguiente selección.\n",
    "```\n",
    "\n",
    "En el muestreo con reemplazo, como cada miembro de una población es reemplazado después de ser elegido, entonces ese miembro tiene la posibilidad de ser elegido más de una vez.\n",
    "\n",
    "Debido a lo anteriot, los eventos se consideran **independientes**, lo que significa que el resultado de la primera elección no cambiará las probabilidades de la segunda.\n",
    "\n",
    "#### Ejemplo - Mazo de cartas con reemplazo\n",
    "\n",
    "Suponga que se tiene un mazo de cartas imparcial y bien mezclado de 52 cartas. Consta de cuatro palos. Los palos son tréboles, diamantes, corazones y picas. Hay 13 cartas en cada palo que consisten en 1, 2, 3, 4, 5, 6, 7, 8, 9, 10, J (sota), Q (reina), K (rey) de ese palo.\n",
    "\n",
    "![mazo_cartas](p1_ch2_s2/mazo_cartas.png)\n",
    "\n",
    "**Muestreo con reemplazo**: Supongamos que elige **tres cartas con reemplazo**. La primera carta que elige de las 52 cartas es la **Q de picas**. Despues de elegida, se vuelve a poner esta carta en el mazo, se baraja las cartas y saca una segunda carta del mazo de 52 la cual el el **diez de tréboles**. Luego se repite el procedimiento anterior y se saca del mazo de 52 cartas una tercera carta la corresponde nuevamente a la **Q de picas**. Sus elecciones son **{Q de picas, diez de tréboles, Q de picas}**. \n",
    "\n",
    "Notese que en este caso es posible escoger la misma carta mas de una vez (repeticamente) siendo el caso del ejemplo, la elección de la Q de picas dos veces. "
   ]
  },
  {
   "cell_type": "markdown",
   "metadata": {},
   "source": [
    "### Muestreo sin reemplazo\n",
    "\n",
    "```{admonition} Muestreo sin reemplazo\n",
    "En el muestreo sin reemplazo, el individuo u objeto seleccionado seleccionado (**muestra**), no se vuelve a colocar en la población antes de la siguiente selección.\n",
    "```\n",
    "\n",
    "Como en este tipo de muestreo cada miembro de una población solo lo pueden seleccionar una vez. las probabilidades de la segunda elección se ven afectadas por el resultado de la primera, lo cual hace que los eventos sean considerados como **dependientes**.\n",
    "\n",
    "#### Ejemplo - Mazo de cartas sin reemplazo\n",
    "\n",
    "Suponga que se tiene un mazo de cartas imparcial y bien mezclado de 52 cartas. Consta de cuatro palos. Los palos son tréboles, diamantes, corazones y picas. Hay 13 cartas en cada palo que consisten en 1, 2, 3, 4, 5, 6, 7, 8, 9, 10, J (sota), Q (reina), K (rey) de ese palo.\n",
    "\n",
    "![mazo_cartas](p1_ch2_s2/mazo_cartas.png)\n",
    "\n",
    "**Muestreo sin reemplazo**: Supongamos que elige **tres cartas sin reemplazo**. La primera carta que saca de las 52 cartas es la **K de corazones**. Luego, se pone esta carta a un lado y saca la segunda carta de las 51 que quedan en el mazo la cual es el **tres de diamantes**. Finalmente, se pone esta carta a un lado y saca la tercera carta de las 50 restantes del mazo la cual corresponde a la **J de picas**. En resumen, sus elecciones son **{K de corazones, tres de diamantes, J de picas}**. \n",
    "\n",
    "Como ha escogido las cartas sin reemplazo, (a diferencia del caso anterior) no puede escoger la misma carta dos veces, lo cual hace que el evento actual de elección de cada carta sea dependientes de los eventos previos."
   ]
  },
  {
   "cell_type": "code",
   "execution_count": 42,
   "metadata": {},
   "outputs": [
    {
     "name": "stdout",
     "output_type": "stream",
     "text": [
      "Resumen profundidades\n",
      "- Minimo: 40.0\n",
      "- Q1: 72.5\n",
      "- Mediana: 90.0\n",
      "- Q3: 96.5\n",
      "- Maximo: 125.0\n",
      "- IRQ: 24.0\n"
     ]
    }
   ],
   "source": [
    "# Usando numpy\n",
    "profundidad = np.array([40, 52, 55, 60, 70, 75, 85, 85, 90, 90, 92, 94, 94, 95, 98, 100, 115, 125, 125])\n",
    "min_prof = np.quantile(profundidad,q = 0.0) # np.percentile(profundidad,q = 0)\n",
    "max_prof = np.quantile(profundidad,q = 1.0) # np.percentile(profundidad,q = 100)\n",
    "Q1_prof = np.quantile(profundidad,q = 0.25) # np.percentile(profundidad,q = 25)\n",
    "Q3_prof = np.quantile(profundidad,q = 0.75) # np.percentile(profundidad,q = 75)\n",
    "median_prof = np.quantile(profundidad,q = 0.5) # np.median(profundidad)\n",
    "rango_prof = np.ptp(profundidad)\n",
    "print(\"Resumen profundidades\")\n",
    "print(\"- Minimo: \", min_prof, sep=\"\")\n",
    "print(\"- Q1: \", Q1_prof , sep=\"\")\n",
    "print(\"- Mediana: \", median_prof , sep=\"\")\n",
    "print(\"- Q3: \", Q3_prof , sep=\"\")\n",
    "print(\"- Maximo: \", max_prof, sep=\"\")\n",
    "print(\"- IRQ: \", Q3_prof - Q1_prof, sep=\"\")"
   ]
  },
  {
   "cell_type": "markdown",
   "metadata": {},
   "source": [
    "* https://github.com/jonkrohn/ML-foundations/blob/master/notebooks/5-probability.ipynb\n",
    "* https://github.com/jonkrohn/ML-foundations/blob/master/notebooks/6-statistics.ipynb\n",
    "* https://github.com/jonkrohn/ML-foundations\n",
    "* https://github.com/unpingco/Python-for-Probability-Statistics-and-Machine-Learning\n",
    "* https://github.com/Quantreo/UDEMY-STATISTIC-AND-PROBABILITY-for-quantitative-finance\n",
    "* https://github.com/ArmanBehnam/Courses\n",
    "* https://github.com/ElizaLo/Data-Science\n",
    "* https://github.com/Probability-Statistics-Jupyter-Notebook\n",
    "* https://ipython-books.github.io/154-computing-exact-probabilities-and-manipulating-random-variables/\n",
    "\n",
    "Otros\n",
    "\n",
    "* https://www.cs.rpi.edu/~zaki/DMML/slides/pdf/ychap18.pdf\n",
    "* https://rpubs.com/jreigarcia/irisdataset\n",
    "* https://medium.com/analytics-vidhya/first-step-to-statistics-with-iris-data-3d29c0820c5d\n",
    "* https://www.kaggle.com/code/neha99/statistical-analysis-on-iris-dataset\n",
    "* https://www.kaggle.com/code/hassanamin/probability-and-statistics-with-python\n",
    "* https://www.geeksforgeeks.org/exploratory-data-analysis-on-iris-dataset/\n",
    "* http://www.lac.inpe.br/~rafael.santos/Docs/CAP394/WholeStory-Iris.html\n",
    "* https://courses.cs.ut.ee/MTAT.03.183/2017_spring/uploads/Main/example_submission.html\n",
    "* https://www.humanitiesdataanalysis.org/index.html\n",
    "* https://www.cs.bu.edu/fac/snyder/cs237/tutorials/LearningPython.html\n",
    "* https://risk-engineering.org/notebook/coins-dice.html\n",
    "* https://web.stanford.edu/class/archive/cs/cs109/cs109.1192/handouts/pythonForProbability.html\n",
    "  "
   ]
  }
 ],
 "metadata": {
  "kernelspec": {
   "display_name": "Python 3.8.8 ('base')",
   "language": "python",
   "name": "python3"
  },
  "language_info": {
   "codemirror_mode": {
    "name": "ipython",
    "version": 3
   },
   "file_extension": ".py",
   "mimetype": "text/x-python",
   "name": "python",
   "nbconvert_exporter": "python",
   "pygments_lexer": "ipython3",
   "version": "3.9.13"
  },
  "vscode": {
   "interpreter": {
    "hash": "e06ff7da33dc9620448857a90ad8b5f428f0d573d205a934d2841c8aee45ea32"
   }
  },
  "widgets": {
   "application/vnd.jupyter.widget-state+json": {
    "state": {},
    "version_major": 2,
    "version_minor": 0
   }
  }
 },
 "nbformat": 4,
 "nbformat_minor": 4
}
