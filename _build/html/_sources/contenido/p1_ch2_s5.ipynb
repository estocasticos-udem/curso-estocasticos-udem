{
 "cells": [
  {
   "cell_type": "code",
   "execution_count": 1,
   "metadata": {},
   "outputs": [],
   "source": [
    "import numpy as np\n",
    "import pandas as pd\n",
    "from scipy.stats import trim_mean"
   ]
  },
  {
   "cell_type": "code",
   "execution_count": 21,
   "metadata": {},
   "outputs": [],
   "source": [
    "def prob(num_events, total):\n",
    "    return num_events/total"
   ]
  },
  {
   "cell_type": "markdown",
   "metadata": {},
   "source": [
    "# Representaciones"
   ]
  },
  {
   "cell_type": "markdown",
   "metadata": {},
   "source": [
    "A veces, cuando los problemas de probabilidad son complejos, puede ser útil hacer un gráfico de la situación o emplear una representación tabular. El uso de estas herramientas de representación facilita la solución de problemas que impliquen el uso de probabilidades. "
   ]
  },
  {
   "cell_type": "markdown",
   "metadata": {},
   "source": [
    "## Tablas de contingencia\n",
    "\n",
    "Una **tabla de contingencia** proporciona una forma tabular de representar los datos para facilitar el cálculo de probabilidades pues facilita la determinación de condicionales con bastante facilidad. \n",
    "\n",
    "En esta tabla se muestra los valores de la muestra en relación con dos variables diferentes que pueden ser dependientes entre sí. "
   ]
  },
  {
   "cell_type": "markdown",
   "metadata": {},
   "source": [
    "### Ejemplos"
   ]
  },
  {
   "cell_type": "markdown",
   "metadata": {},
   "source": [
    "#### Ejemplo 1\n",
    "\n",
    "La siguiente tabla de contingencia describe los 595 estudiantes que respondieron a una encuesta escolar sobre desayunar. \n",
    "\n",
    "||Hombre|Mujer|Total|\n",
    "|---|---|---|---|\n",
    "|Desayuna regularmente|190|110|300|\n",
    "|No desayuna regularmente|130|165|295|\n",
    "|Total|320|275|595|\n",
    "\n",
    "Suponga que se selecciona un estudiante al azar. Considere los eventos:\n",
    "* $B$ = desayuna regularmente \n",
    "* $M$ = es hombre\n",
    "\n",
    "Se pide: \n",
    "1. Encuentre $P(B|M)$ y explique lo que significa.\n",
    "2. Encuentre $P(M|B)$ y explique lo que significa.\n",
    "3. ¿Todos los eventos $B$ y $M$ son mutuamente excluyentes?\n",
    "4. ¿Todos los eventos $B$ y $M$ son independientes?"
   ]
  },
  {
   "cell_type": "code",
   "execution_count": 34,
   "metadata": {},
   "outputs": [
    {
     "name": "stdout",
     "output_type": "stream",
     "text": [
      "   regular_breakdast  man  woman\n",
      "0                  1  190    130\n",
      "1                  0  110    165\n",
      "man      300\n",
      "woman    295\n",
      "dtype: int64\n",
      "0    320\n",
      "1    275\n",
      "dtype: int64\n",
      "0.40625\n",
      "0.4406779661016949\n"
     ]
    }
   ],
   "source": [
    "\n",
    "regular_breakdast = np.array([1, 0], dtype=object)\n",
    "man = np.array([190, 110], dtype=object)\n",
    "woman = np.array([110, 165], dtype=object)\n",
    "\n",
    "data = {\n",
    "  \"regular_breakdast\": np.array([1, 0]),\n",
    "  \"man\": np.array([190, 110]),\n",
    "  \"woman\": np.array([130, 165])\n",
    "}\n",
    "\n",
    "cont_tab = pd.DataFrame(data)\n",
    "print(cont_tab)\n",
    "\n",
    "total_sex = cont_tab[['man','woman']].sum(axis = 0) # Suma columnas\n",
    "print(total_sex)\n",
    "total_breakfast = cont_tab[['man','woman']].sum(axis = 1) # Suma Filas\n",
    "print(total_breakfast)\n",
    "# 1\n",
    "total_break =  total_breakfast[0]\n",
    "num_break_and_woman = cont_tab.iloc[0]['woman']\n",
    "P_B_dado_M = prob(num_break_and_woman,total_break)\n",
    "print(P_B_dado_M)\n",
    "\n",
    "# 2\n",
    "num_break_and_woman =  cont_tab.iloc[0]['woman']\n",
    "total_woman = total_sex[1]\n",
    "P_M_dado_B = prob(num_break_and_woman,total_woman)\n",
    "print(P_M_dado_B)\n",
    "\n",
    "# 3. Yes\n",
    "# 4. Verificacion por formula"
   ]
  },
  {
   "cell_type": "markdown",
   "metadata": {},
   "source": [
    "#### Ejemplo 2\n",
    "\n",
    "Una encuesta de 4826 adultos jóvenes (de 19 a 25 años) seleccionados al azar preguntó: \"¿Cuáles crees que son las posibilidades de que tengas mucho más que un ingreso de clase media a los 30 años?\" La siguiente tabla muestra las respuestas. \n",
    "\n",
    "|Opinion|Mujer|Hombre|Total|\n",
    "|---|---|---|---|\n",
    "|Casi ninguna | 96 | 98 | 194 |\n",
    "|Alguna posibilidad pero probablemente no | 426 | 286 | 712 |\n",
    "|Una probabilidad de 50-50 | 696 | 720 | 1416 | \n",
    "|Gran probabilidad |663 | 758 | 1421 |\n",
    "|Practicamente segura |486 | 597 | 1083 |\n",
    "|Total |2367 | 2459 | 4826 |\n",
    "\n",
    "\n",
    "Si se elije un encuestado al azar:\n",
    "1. Si la persona seleccionada es un hombre, cual es la probabilidad de que esta responda \"Practicamente segura\"\n",
    "2. Si la persona seleccionada responde \"Alguna posibilidad pero probablemente no\" cual es la probabilidad de que la persona sea mujer\n",
    "3. Encuentre $P(\"Gran probabilidad\" | Mujer)$\n",
    "4. Encuentre $P(\"Gran probabilidad\")$\n",
    "5. Los eventos \"Gran probabilidad\" y \"Mujer\" son eventos independientes\n",
    "\n",
    "* **Solución**\n",
    "\n",
    "Primero definimos los eventos asociados al problema:\n",
    "* $M$: La persona seleccionada es Mujer.\n",
    "* $H$: La persona seleccionada es Hombre\n",
    "* $R_1$: La persona seleccionada respondió \"Casi ninguna\"\n",
    "* $R_2$: La persona seleccionada respondió \"Alguna posibilidad pero probablemente no\"\n",
    "* $R_3$: La persona seleccionada respondió \"Una probabilidad de 50-50\"\n",
    "* $R_4$: La persona seleccionada respondió \"Gran probabilidad\"\n",
    "* $R_5$: La persona seleccionada respondió \"Practicamente segura\"\n",
    "\n",
    "Ahora teniendo en cuenta esto, procedamos a calcular lo que se pide:\n",
    "1. $P(R_5|H) = ?$\n",
    "\n",
    "   Sabemos que la formula de probabilidad condicional esta dada por:\n",
    "\n",
    "   $$P(R_5|H) = \\frac{P(R_5\\;and\\;H)}{P(H)}$$\n",
    "\n",
    "   De la tabla tenemos:\n",
    "\n",
    "   $P(R_5\\;and\\;H) =  \\frac{N(R_5\\;and\\;H)}{N} =  \\frac{597}{4826} = 0.1237$\n",
    "\n",
    "   $P(H) = \\frac{N(H)}{N} = \\frac{2459}{4826} = 0.5095$\n",
    "\n",
    "   Al reemplazar los valores anteriores tenemos:\n",
    "\n",
    "   $$P(R_5|H) = \\frac{P(R_5\\;and\\;H)}{P(H)} = \\frac{\\frac{597}{4826}}{\\frac{2459}{4826}}$$\n",
    "\n",
    "   $$P(R_5|H) = \\frac{597}{2459} = 0.2459$$\n",
    "\n",
    "   Otra forma de hallar lo anterior seria aplicando la definición de probabilidad condicional:\n",
    "\n",
    "   $$P(R_5|H) = \\frac{N(R_5\\;and\\;H)}{N(H)} = \\frac{597}{2459} = 0.2459$$ \n",
    "\n",
    "   Como se puede ver en el procedimiento anterior, los resultados coinciden.\n",
    "\n",
    "2. $P(M|R_2) = ?$\n",
    "   \n",
    "   Para el caso, vamos a aplicar la definición de probabilidad condicional pues reduce la cantidad de calculos necesarios para llegar a la respuesta:\n",
    "\n",
    "   $$P(M|R_2) = \\frac{N(M\\;and\\;R_2)}{N(R_2)} = \\frac{426}{712} = 0.5983$$\n",
    "\n",
    "\n",
    "3. $P(R_4|M) = ?$\n",
    "   \n",
    "   Realizando los calculos tenemos:\n",
    "\n",
    "   $$P(R_4|M) = \\frac{N(R_4\\;and\\;M)}{N(M)} = \\frac{663}{2367} = 0.2801$$\n",
    "   \n",
    "4. ¿Los eventos D y A son independientes?\n",
    "   \n",
    "   "
   ]
  },
  {
   "cell_type": "markdown",
   "metadata": {},
   "source": [
    "## Generalización de la probabilidad total\n",
    "\n",
    "```{admonition} Ley de la probabilidad total\n",
    "Dados los eventos $B_1,\\;,B_2,\\;,B_3,\\;,...,B_k$ los cuales son mutuamente exclusivos con $P(B_1)+P(B_2)+P(B_3)+...+P(B_k) = 1$, entonces para cualquier evento $E$:\n",
    "\n",
    "$$\n",
    "P(E)  = P(E \\bigcap B_1) + P(E \\bigcap B_2) + ... + P(E \\bigcap B_k)\n",
    "P(E)  = P(E1|B_1)P(B_1) + P(E|B_2)P(B_2) + ... + P(E|B_k)P(B_k)\n",
    "$$\n",
    "```"
   ]
  },
  {
   "cell_type": "markdown",
   "metadata": {},
   "source": [
    "### Ejemplos"
   ]
  },
  {
   "cell_type": "markdown",
   "metadata": {},
   "source": [
    "# Referencias"
   ]
  },
  {
   "cell_type": "markdown",
   "metadata": {},
   "source": [
    "* https://github.com/jonkrohn/ML-foundations/blob/master/notebooks/5-probability.ipynb\n",
    "* https://github.com/jonkrohn/ML-foundations/blob/master/notebooks/6-statistics.ipynb\n",
    "* https://github.com/jonkrohn/ML-foundations\n",
    "* https://github.com/unpingco/Python-for-Probability-Statistics-and-Machine-Learning\n",
    "* https://github.com/Quantreo/UDEMY-STATISTIC-AND-PROBABILITY-for-quantitative-finance\n",
    "* https://github.com/ArmanBehnam/Courses\n",
    "* https://github.com/ElizaLo/Data-Science\n",
    "* https://github.com/Probability-Statistics-Jupyter-Notebook\n",
    "* https://ipython-books.github.io/154-computing-exact-probabilities-and-manipulating-random-variables/\n",
    "* https://realpython.com/python-itertools/\n",
    "* https://github.com/honi/uba-probabilidad-y-estadistica\n",
    "\n",
    "Otros\n",
    "\n",
    "* https://www.cs.rpi.edu/~zaki/DMML/slides/pdf/ychap18.pdf\n",
    "* https://rpubs.com/jreigarcia/irisdataset\n",
    "* https://medium.com/analytics-vidhya/first-step-to-statistics-with-iris-data-3d29c0820c5d\n",
    "* https://www.kaggle.com/code/neha99/statistical-analysis-on-iris-dataset\n",
    "* https://www.kaggle.com/code/hassanamin/probability-and-statistics-with-python\n",
    "* https://www.geeksforgeeks.org/exploratory-data-analysis-on-iris-dataset/\n",
    "* http://www.lac.inpe.br/~rafael.santos/Docs/CAP394/WholeStory-Iris.html\n",
    "* https://courses.cs.ut.ee/MTAT.03.183/2017_spring/uploads/Main/example_submission.html\n",
    "* https://www.humanitiesdataanalysis.org/index.html\n",
    "* https://www.cs.bu.edu/fac/snyder/cs237/tutorials/LearningPython.html\n",
    "* https://risk-engineering.org/notebook/coins-dice.html\n",
    "* https://web.stanford.edu/class/archive/cs/cs109/cs109.1192/handouts/pythonForProbability.html\n",
    "  "
   ]
  }
 ],
 "metadata": {
  "kernelspec": {
   "display_name": "Python 3.8.8 ('base')",
   "language": "python",
   "name": "python3"
  },
  "language_info": {
   "codemirror_mode": {
    "name": "ipython",
    "version": 3
   },
   "file_extension": ".py",
   "mimetype": "text/x-python",
   "name": "python",
   "nbconvert_exporter": "python",
   "pygments_lexer": "ipython3",
   "version": "3.9.13"
  },
  "vscode": {
   "interpreter": {
    "hash": "e06ff7da33dc9620448857a90ad8b5f428f0d573d205a934d2841c8aee45ea32"
   }
  },
  "widgets": {
   "application/vnd.jupyter.widget-state+json": {
    "state": {},
    "version_major": 2,
    "version_minor": 0
   }
  }
 },
 "nbformat": 4,
 "nbformat_minor": 4
}
