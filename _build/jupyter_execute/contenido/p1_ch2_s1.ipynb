{
 "cells": [
  {
   "cell_type": "code",
   "execution_count": 1,
   "metadata": {},
   "outputs": [],
   "source": [
    "import numpy as np\n",
    "import pandas as pd\n",
    "from scipy.stats import trim_mean"
   ]
  },
  {
   "cell_type": "markdown",
   "metadata": {},
   "source": [
    "# Experimentos y eventos\n",
    "\n",
    "## Experimento\n",
    "\n",
    "```{admonition} Definición\n",
    "Un **experimento** es una operación planificada que se realiza en condiciones controladas. Si el **resultado** (producto del experimento) no está predeterminado, se dice que el experimento es **aleatorio**.\n",
    "```\n",
    "\n",
    "Un experimento consiste en un procedimiento y unas observaciones. Por ejemplo un experimento podria ser lanzar una moneda no cargada ([simulacion](http://digitalfirst.bfwpub.com/stats_applet/stats_applet_10_prob.html)). Esto implica:\n",
    "* **Procedimiento**: Lanzar una moneda varias veces e ir anotando los resultados en una tabla.\n",
    "* **Observaciones**: Observar el lado de la moneda (cara o sello) despues de que la moneda es lanzada.\n",
    "\n",
    "La siguiente tabla muestra algunos ejemplos de experimentos:\n",
    "\n",
    "|Experimento|Procedimiento|Observaciones|\n",
    "|:---:|---|---|\n",
    "|**Lanzar una moneda tres veces**|Lanzar una moneda varias veces e ir apuntando los resultados en una tabla|Posibles observaciones: <ol> <li>Secuencia de caras y sellos</li> <li>Numero de caras</li> </ol>|\n",
    "|**Lanzar una par de monedas**|Lanzar un par de monedas varias veces e ir anotando los resultados en una tabla|Salida (cara/sello) de cada moneda|\n",
    "|**Contar el numero de estudiantes que asisten a clase**|Llamar a lista cada clase|La cantidad de estudiantes que asisten|\n",
    "|**Determinar la calidad del suerño**|Medir la hora de acostada y levantada y apuntarlas en una tabla|Posibles observaciones: <ol> <li>Tiempo total de dormida</li> <li>Numero veces que se desperto durante la noche</li> <li>Como se sintió con la dormida (Valor categorico en la escala 1 a 5)</li> </ol>|\n",
    "\n",
    "## Espacio muestral\n",
    "\n",
    "Antes de definir el concepto de espacio muestral, es conveniente definir el concepto de salida:\n",
    "\n",
    "```{admonition} Salida (Outcome)\n",
    "Una **salida** (outcome) de un experimento es una de las posibles observaciones de dicho experimento.\n",
    "```\n",
    "\n",
    "Por ejemplo si un experimento consiste en **lanzar un dado no cargado**, la salida consiste en uno de los posibles valores que cae en la cara.\n",
    "\n",
    "```{admonition} Espacio muestral\n",
    "El **espacio muestral** ($S$) de un *experimento* es el conjunto de todos los resultados posibles. \n",
    "```\n",
    "\n",
    "Existen 3 formas de representar un espacio muestral:\n",
    "* Hacer una lista de posibles resultados.\n",
    "* Crear un diagrama de árbol.\n",
    "* Crear un diagrama de Venn. \n",
    "\n",
    "### Ejemplo 1\n",
    "\n",
    "Considere un **experimento** para investigar si es más probable que los hombres o las mujeres elijan un auto electrico en lugar de uno a gasolina al comprar un Honda Civic en un concesionario de automóviles en particular. El Honda Civic está disponible en ambas variantes. En este experimento, se seleccionará al azar un cliente entre los que compraron un Honda Civic. Se determinará el tipo de vehículo adquirido (electrico o a gasolina) y se registrará el sexo del cliente. \n",
    "\n",
    "Antes de el cliente es seleccionado, el resultado de este experimento casual es desconocido para nosotros. Sin embargo, sabemos cuáles son los posibles resultados (**espacio muestral**). \n",
    "\n",
    "Por ejemplo, si los resultados se representan como una lista tenemos:\n",
    "1. Mujer compra auto electrico.\n",
    "2. Mujer compra auto a gasoluna.\n",
    "3. Hombre compra auto electrico.\n",
    "4. Hombre compra auto a gasoluna.\n",
    "\n",
    "Una forma mas resulmida consiste en representar las salidas anteriores usando pares ordenados de modo que:\n",
    "\n",
    "```\n",
    "S = {(hombre, electrico), (mujer, electrico),\n",
    "     (hombre, gasolina), (mujer, gasolina)}\n",
    "```\n",
    "\n",
    "En la representación en la que se usa el diagrama de arbol para representar espacio muestral para identificar un resultado especifico (en este ejemplo), se recorre el arbol seleccionando primero la rama correspondiente al sexo (Masculino/Femenino) del comprador y luego la rama correspondinete al tipo de vehiculo (Electrico/Gasolina). La siguiente. En la siguiente figura se resalta el caso en el que la salida corresponde a la adquisición de un auto electrico por parte de un hombre:\n",
    "\n",
    "![diagrama_arbol](p1_ch2_s1/diagrama_arbol_carros1.png)\n",
    "\n",
    "Como en este caso, en la elección del automovil no importa el orden de la selección, no importa cual rama va primero y cual despues de modo que una representación equivalente se muestra a continuacuón:\n",
    "\n",
    "![diagrama_arbol](p1_ch2_s1/diagrama_arbol_carros2.png)\n",
    "\n",
    "## Eventos\n",
    "\n",
    "```{admonition} Evento\n",
    "Un **evento** es cualquier combinación de resultados del espacio muestral asociado a un experimento aleatorio.\n",
    "```\n",
    "\n",
    "Cuando el resultado consisten en exactamente una sola salida, decimos que el evento es **simple**.\n",
    "\n",
    "Usualmente se emplean letras mayusculas $(A, B, C,...)$  o letras con subindices $(E_1, E_2, E_3,...)$ para representar eventos. \n",
    "\n",
    "### Ejemplo 2\n",
    "\n",
    "Teniendo en cuenta el experimento analizado en el ejemplo 1 (adquisión del onda civic). Podemos definir los siguientes eventos:\n",
    "* **M**: El auto fue adquirido por un hombre.\n",
    "* **F**: El auto fue comprado por una mujer.\n",
    "* **G**: El tipo de carro es de gasolina.\n",
    "* **E**: El tipo de carro es electrico.\n",
    "\n",
    "Se pide:\n",
    "1. ¿Cual es el espacio muestral teniendo en cuenta esta representación?\n",
    "\n",
    "   $S = \\left \\{ME, FE, MG, FG \\right \\}$\n",
    "\n",
    "2. Encuentre los eventos simples de cada caso.\n",
    "   *  $E_1 = ME$\n",
    "   *  $E_2 = FE$\n",
    "   *  $E_3 = MG$\n",
    "   *  $E_4 = FG$\n",
    "\n",
    "3. Suponiendo que el evento de interes consiste en todas las salidas cuando un auto electrico es elegido tenemos:\n",
    "   \n",
    "   $$electrico = \\left \\{ME, FE \\right \\}$$\n",
    "\n",
    "4. Evento en el que el comprador elegido es mujer:\n",
    "   \n",
    "   $$mujer = \\left \\{FE, FG \\right \\}$$\n",
    "\n",
    "### Ejemplo 3\n",
    "\n",
    "Un experimento consiste en lanzar una moneda no cargada. ¿Cual es el espacio muestral asociado al experimento?\n",
    "\n",
    "![s_moneda](./p1_ch2_s1/espacio_muestral_moneda.png)\n",
    "\n",
    "Inicialmente definimos los siguientes eventos:\n",
    "* **H**: el resultado de lanzar la moneda es cara.\n",
    "* **T**: el resultado de lanzar la moneda es sello.\n",
    "\n",
    "De este modo, el espacio muestral del experimento esta dado por:\n",
    "\n",
    "$$S = \\left \\{H, T \\right \\}$$\n",
    "\n",
    "### Ejemplo 4\n",
    "\n",
    "Suponga que se lleva a cabo un experimento que consiste en lanzar dos veces una moneda imparcial. Si **H**, es el evento en el cual el resultado es cara y **T** es el evento cuyo resultado es sello.\n",
    "1. ¿Cual es el espacio muestral?\n",
    "\n",
    "   La siguiente figura muestra las difentes posibilidades a la salida:\n",
    "\n",
    "   ![s_par_,monedas](p1_ch2_s1/espacio_muestral_par_monedas.png)\n",
    "\n",
    "   De este modo, segun lo anterior, el espacio muestral para este experimento es:\n",
    "\n",
    "   $$S = \\left \\{HH, HT, TH, TT \\right \\}$$\n",
    "\n",
    "2. Llenar la siguiente tabla:\n",
    "   \n",
    "   |Evento|Descripción|Resultado|\n",
    "   |------|------|------|\n",
    "   |$E_1$ |Que salga al menos un sello||\n",
    "   |$E_2$ |Que las salidas sean las mismas||\n",
    "   |$E_3$|Que la primera moneda sea cara||\n",
    "\n",
    "   A continuación se muestra la tabla llena:\n",
    "   \n",
    "   |Evento|Descripción|Resultado|\n",
    "   |------|------|------|\n",
    "   |$E_1$ |Que salga al menos un sello|$E_1 = \\left \\{TH, HT, TT \\right \\}$|\n",
    "   |$E_2$ |Que las salidas sean las mismas|$E_2 = \\left \\{HH, TT \\right \\}$|\n",
    "   |$E_3$|Que la primera moneda sea cara|$E_3 = \\left \\{HH, HT \\right \\}$|\n",
    "\n",
    "\n",
    "Es posible crear nuevos eventos a partir de eventos ya especificados tal y como se muestra a continuación:\n",
    "\n",
    "```{admonition} Operaciones sobre eventos\n",
    "Dados dos eventos $A$ y $B$:\n",
    "* **Not $A$**: Evento que contiene todas las salidas del experimento que no estan en el evento $A$. **Not $A$** es algunas veces llamado **Complemento de $A$** y usualmente es denotado como: $A^c$, $A'$ o $\\bar{A}$.\n",
    "* **$A$ or $B$**: Evento que consiste de todas las salidas del experimento que estan al menos en uno de los dos eventos, esto es, que estan en $A$, en $B$ o en ambos. **$A$ or $B$** es llamado la unión de los dos eventos y es denotado por $A \\bigcup B$.\n",
    "* **$A$ and $B$**: Evento que consiste en todas las salidas que se encuentran en ambos eventos $A$ y $B$. **$A$ and $B$** es conocido como la intersección de los dos eventos y se denota por $A \\bigcap B$.\n",
    "```\n",
    "\n",
    "### Ejemplo 5\n",
    "\n",
    "Se le ha pedido a una ingeniera de tránsito que considere si una señal de alto en la parte inferior de la rampa de salida de una autopista debe ser reemplazada por un semáforo. Para ayudar en esta decisión, ella planea observar los patrones de tráfico de esta rampa de salida. Para esto, la ingeniera registra la direccion de giro (**L**: Izquierda; **R**: Derecha) de tres vehiculos sucesivos. Para esto se pide lo siguiente:\n",
    "1. ¿Cual es el espacio muestral del experimento?\n",
    "   \n",
    "   Sea $S$ el espacio muestral del experimento tenemos que:\n",
    "\n",
    "   $$S = \\left \\{LLL, RLL, LRL, LLR, RRL, RLR, LRR, RRR \\right \\}$$\n",
    "\n",
    "2. ¿Cual es la salida para el evento de que exactamente solo un carro gire a la derecha?\n",
    "   \n",
    "   Sea $A$ = Evento de que exactamente un carro gire a la derecha, tenemos que:\n",
    "\n",
    "   $$A = \\left \\{RLL, LRL, LLR \\right \\}$$\n",
    "\n",
    "3. ¿Cual es la salida del evento de que a lo sumo un carro gire a la derecha?\n",
    "   \n",
    "   Sea $B$ = Evento de que maximo un carro gire a la derecha, tenemos que:\n",
    "\n",
    "   $$B = \\left \\{RLL, LRL, LLR, LLL  \\right \\}$$\n",
    "\n",
    "4. ¿Cual es la salida evento en el cual todos los carros giran en la misma dirección?\n",
    "\n",
    "   Sea $C$ = Evento en el que todos los carros giran en la misma dirección\n",
    "\n",
    "   $$C = \\left \\{RRR, LLL \\right \\}$$\n",
    "\n",
    "5. ¿Cual es la salida asociada al evento en el cual todos los carros no giran en la misma dirección?\n",
    "\n",
    "   Sea $D$ = Evento en el que todos los carros no giran en la misma dirección\n",
    "\n",
    "   $$D = C^C = \\left \\{RLL, LRL, LLR, RRL, RLR, LRR\\right \\}$$\n",
    "\n",
    "6. ¿Cual es la salida para el evento en el cual solo uno de los carros gira a la derecha o todos los carros giran en la misma dirección?\n",
    "   \n",
    "   Sea $E$ = Evento en el que solo uno de los carros gira a la derecha o todos los carros giran en la misma dirección.\n",
    "\n",
    "   $$\n",
    "   E = A \\bigcup C  = \\left \\{RLL, LRL, LLR \\right \\} \\bigcup \\left \\{LLL, RRR \\right \\} = \\left \\{RLL, LRL, LLR, LLL, RRR \\right \\}\n",
    "   $$\n",
    "\n",
    "7. ¿Cual es la salida del evento de que a lo sumo (como maximo) un carro gire a la derecha y todos los autos giran en la misma dirección?\n",
    "\n",
    "   Sea $F$ = Evento en el que como maximo un solo carro gira a la derecha y todos los autos giran en la misma dirección\n",
    "\n",
    "   $$F = B \\bigcap C = \\left \\{RLL, LRL, LLR, LLL \\right \\} \\bigcap \\left \\{RRR, LLL \\right \\} = \\left \\{LLL\\right \\}$$\n",
    "\n",
    "## Simulación\n",
    "\n",
    "Poner un ejemplo..."
   ]
  },
  {
   "cell_type": "markdown",
   "metadata": {},
   "source": [
    "# Probabilidades\n",
    "\n",
    "Un **modelo de probabilidad** es una descripción de un evento aleatorio que consiste de dos partes:\n",
    "* La lista de todas las posibles salidas (espacio muestral).\n",
    "* Un probabilidad para cada salida.\n",
    "\n",
    "La probabilidad de cualquier resultado es la frecuencia relativa a largo plazo de ese resultado.\n",
    "\n",
    "```{admonition} Calculo de la Probabilidad \n",
    "Cuando las salidas del espacio muestral $S$ de un experimento son **igualmente probables**, la probabilidad de un evento $E$, denotada por $P(E)$, es la razon entre el numero de resultados asociadas a $E$  y el numero total de resultados del espacio muestral:\n",
    "\n",
    "$$\n",
    "P(E) = \\frac{Numero\\; de\\; salidas\\; de\\; E}{Numero\\; de\\; salidas\\; de\\; S}\n",
    "$$\n",
    "\n",
    "```\n",
    "Es importante anotar que hay dos tipos de resultados:\n",
    "* **Resultados igualmente probables**: Significa que cada resultado de un experimento ocurre con igual probabilidad.\n",
    "* **Eventos sesgados**: situación en la que los resultados no son igualmente probables.\n",
    "\n",
    "Por otro lado, en lo que respecta a la probabilidad, esta cumple las siguientes propiedades:\n",
    "\n",
    "```{admonition} Propiedades de la probabilidad\n",
    "1. Para cualquier evento $E$, $0 \\leq P(E) \\leq 1$\n",
    "2. Si $S$ es el espacio muestral de un experimento, $P(S) = 1$\n",
    "3. Si un evento $E$ es imposible, entonces $P(E) = 0 $\n",
    "4. Si $E$ es un evento seguro, entonces $P(E) = 1 $\n",
    "```\n"
   ]
  },
  {
   "cell_type": "markdown",
   "metadata": {},
   "source": [
    "#### Ejemplo 6\n",
    "\n",
    "Suponga que se lanza varias veces un dado no cargado de seis lados  con los números {1, 2, 3, 4, 5, 6} en sus lados. \n",
    "\n",
    "![dado](p1_ch2_s1/espacio_muestral_dado.png)\n",
    "\n",
    "Se pide:\n",
    "1. El espacio muestral del experimento.\n",
    "   \n",
    "   El espacio muestral consiste en cada uno de los valores de la cara que queda boca arriba.\n",
    "\n",
    "   $$\n",
    "   S = {1,2,3,4,5,6}\n",
    "   $$\n",
    "\n",
    "2. La probabilidad de obtener 5 en un lanzamiento.\n",
    "   \n",
    "   Sea **A** = Obtener cinco en el lanzamiento tenemos, tenemos que los resultados para el evento **A** son: ```A = {5}```\n",
    "\n",
    "   $$\n",
    "   P(A) = \\frac{Numero\\; de\\; salidas\\; de\\; A}{Numero\\; de\\; salidas\\; de\\; S} = \\frac{1}{6}\n",
    "   $$\n",
    "\n",
    "3. La probabilidad de obtener al menos 5 en el lanzamiento.\n",
    "   \n",
    "   Sea **B** = Obtener al menos cinco en el lanzamiento, tenemos que las salidas para el evento **B** son: ```B = {5,6}```, luego:\n",
    "\n",
    "   $$\n",
    "   P(A) = \\frac{Numero\\; de\\; salidas\\; de\\; B}{Numero\\; de\\; salidas\\; de\\; S} = \\frac{2}{6} = \\frac{1}{3} \n",
    "   $$\n"
   ]
  },
  {
   "cell_type": "markdown",
   "metadata": {},
   "source": [
    "## EVENTOS AND, OR y complemento\n",
    "\n",
    "Aunque se habian hablado de estos, por comodidad vamos a volver a tratarlos:\n",
    "\n",
    "```{admonition} OR\n",
    "Dados dos posibles eventos $A$ y $B$. El evento $A or B (A \\bigcup B)$ se da cuando el resultado está en $A$, está en $B$ o está tanto en $A$ como en $B$.\n",
    "```\n",
    "\n",
    "```{admonition} AND\n",
    "Dados dos posibles eventos $A$ y $B$. El evento $A and B (A \\bigcap B)$ se da cuando el resultado está en $A$ y en $B$ al mismo tiempo.\n",
    "```\n",
    "\n",
    "```{admonition} Complemento\n",
    "El complemento del evento $A$ se denomina $A' (A^C = \\bar{A})$ y consiste en todos los resultados que **NO** están en $A$.\n",
    "```\n",
    "\n",
    "A partir de lo anterior, tenemos dos propiedades mas:\n",
    "\n",
    "```{admonition} Propiedades de la probabilidad\n",
    "5. Dados dos eventos mutuamente excluyentes (no suceden a la vez) $E$ y $F$, entonces:\n",
    "\n",
    "   $$\n",
    "   P(E or F) = P(E \\bigcup F) = P(E + F) = P(E) + P(F) \n",
    "   $$\n",
    "\n",
    "6. **Regla del complemento**: Para cualquier evento $E$: $P(E) + P(E') = 1$ por lo tanto:\n",
    "   \n",
    "   $$\n",
    "   P(E) = 1 - P(E')   \n",
    "   $$\n",
    "\n",
    "   $$\n",
    "   P(E') = 1 - P(E)   \n",
    "   $$\n",
    "```"
   ]
  },
  {
   "cell_type": "markdown",
   "metadata": {},
   "source": [
    "#### Ejemplo 7\n",
    "\n",
    "Suponga que se realiza un experimento que consiste en lanzar un par de dados no cargados. \n",
    "\n",
    "![par de dados](p1_ch2_s1/espacio_muestral_par_dados.png)\n",
    "\n",
    "Hallar:\n",
    "1. El espacio muestral del experimento.\n",
    "   \n",
    "   Sea S el espacio muestral del experimento, los resultados son:\n",
    "\n",
    "   ```\n",
    "   S = {\n",
    "         (1,1), (1,2), (1,3), (1,4), (1,5), (1,6),\n",
    "         (2,1), (2,2), (2,3), (2,4), (2,5), (2,6),\n",
    "         (3,1), (3,2), (3,3), (3,4), (3,5), (3,6),\n",
    "         (4,1), (4,2), (4,3), (4,4), (4,5), (4,6),\n",
    "         (5,1), (5,2), (5,3), (5,4), (5,5), (5,6),\n",
    "         (6,1), (6,2), (6,3), (6,4), (6,5), (6,6)\n",
    "       }\n",
    "   ```     \n",
    "\n",
    "2. La probabilidad de que la suma de los dados no sea 5.\n",
    "\n",
    "   Sea **Sum5** = la suma de los dados da 5. Entonces lo que nos piden es $P(not(Sum5))$. Si las salida $Sum5 = {(4,1),(1,4),(3,2),(2,3)}$ tenemos que:\n",
    "\n",
    "   $$\n",
    "   P(Sum5) = \\frac{N(Sum5)}{N} = \\frac{4}{36} = \\frac{1}{9}\n",
    "   $$\n",
    "\n",
    "   Luego:\n",
    "   \n",
    "   $$\n",
    "   P(not(Sum5)) = 1 - P(Sum5) = 1 - \\frac{1}{9} = \\frac{8}{9} \n",
    "   $$\n",
    "\n",
    "3. La probabilidad de que la suma de los dados sea 5 o 6.\n",
    "   \n",
    "   Ya tenemos el caso para el evento **Sum5**, sea el evento **Sum6** = La suam de los dados es 6, tenemos que, las salidas para este son: $Sum6 = {(5,1),(1,5),(4,2),(2,4),(3,3)}$ de este modo:\n",
    "\n",
    "   $$\n",
    "   P(Sum6) = \\frac{N(Sum6)}{N} = \\frac{5}{36} \n",
    "   $$\n",
    "\n",
    "   Luego si definimos el evento **Sum5-6** = que la suma de los dados sea 5 o 6, tenemos que:\n",
    "\n",
    "   $$\n",
    "   P(Sum5-6) = P(Sum5 \\bigcup Sum6) =  P(Sum5 + Sum6) = P(Sum5) + P(Sum6) = \\frac{5}{36} + \\frac{4}{36} = \\frac{1}{4}\n",
    "   $$"
   ]
  },
  {
   "cell_type": "markdown",
   "metadata": {},
   "source": [
    "## Probabilidad condicional\n",
    "\n",
    "Existen casos en los que la probabilidad que se asigna a un evento puede cambiar si se sabe que ha ocurrido otro evento. La probabilidad de que suceda un evento dado que ya se sabe que sucedió otro evento se llama **probabilidad condicional**.\n",
    "\n",
    "```{admonition} Probabilidad condicional\n",
    "La probabilidad condicional del evento $A$ dado el evento $B$ se escribe $P(A|B)$ y es la probabilidad de que ocurra el evento $A$ dado que el evento $B$ ya ha ocurrido. Esta se calcula mediante la siguiente expresión\n",
    "\n",
    "$$\n",
    "P(A|B) = \\frac{P(A \\bigcap B)}{P(B)}\n",
    "$$\n",
    "```\n",
    "\n",
    "Una observación importante es que la **parte condicional** reduce el espacio muestral pues el calculo de la probabilidad se hace tomando $A$ a partir del espacio muestral reducido $B$. Para aclarar esto observemos el siguiente ejemplo:"
   ]
  },
  {
   "cell_type": "markdown",
   "metadata": {},
   "source": [
    "#### Ejemplo 8\n",
    "Suponga que se lanza un dado imparcial de seis lados. Sean los eventos **A** = el lado es 2 o 3 y **B** = el lado es par. ¿Cual es la probabilidad de sacar 2 o 3 si el lado es par?\n",
    "\n",
    "![dado_condicional](p1_ch2_s1/dado_condicional.png)\n",
    "\n",
    "Inicialmente tenemos las siguientes salidas para el espacio muestral y los eventos iniciales:\n",
    "* $S = {1, 2, 3, 4, 5, 6}$\n",
    "* $A = {2, 3}$\n",
    "* $B = {2, 4, 6}$\n",
    "\n",
    "Ahora vamos a calcular $P(A|B)$ recordando que primero se recuce el espacio muestral teniendo en cuenta el evento $B$ y luego dentro de este se cuenta la ocurrencia del evento $A$, es decir dentro de $B = {2, 4, 6}$ tenemos que la unica salida que satisface el evento $A$ es ${2}$, de modo que solo hay **una de tres** posibilidades de que las sea **2 o 3** dado que el numero a la salida es **par**, asi:\n",
    "\n",
    "$$\n",
    "P(A|B) = \\frac{1}{3} \n",
    "$$\n",
    "\n",
    "Por otro lado si se aplica la formula tenemos inicialmente que $A \\bigcap B = {2, 3} \\bigcap {2, 4, 6} = {2}$, de modo que:\n",
    "\n",
    "$$\n",
    "P(A|B) = \\frac{P(A \\bigcap B)}{P(B)} = \\frac{1}{3}\n",
    "$$"
   ]
  },
  {
   "cell_type": "markdown",
   "metadata": {},
   "source": [
    "## Analisis de problemas\n",
    "Para solucionar problemas que implican probabilidades el punto de partida consiste en comprender la terminologia y los simbolos para lo cual, los siguientes pasos pueden ser de utilidad:\n",
    "1. Lea detenidamente cada problema para reflexionar y comprender los eventos. \n",
    "2. Entienda el enunciado (es el primer paso para resolver problemas de probabilidad). Vuelva a leer el problema varias veces si es necesario. \n",
    "3. Identifique claramente el evento de interés. \n",
    "4. Determine si hay una condición establecida en el enunciado que indique que la probabilidad es condicional.\n",
    "5. Identifique cuidadosamente la condición, si la hay"
   ]
  },
  {
   "cell_type": "markdown",
   "metadata": {},
   "source": [
    "# Uso de python en problemas con probabilidades"
   ]
  },
  {
   "cell_type": "code",
   "execution_count": 2,
   "metadata": {},
   "outputs": [],
   "source": [
    "# importar de bibliotecas necesarias\n",
    "import numpy as np\n",
    "import pandas as pd\n",
    "from myst_nb import glue\n",
    "# Funcion para calcular la probabilidad de un evento\n",
    "def prob(n_event, n):\n",
    "    return n_event/n"
   ]
  },
  {
   "cell_type": "markdown",
   "metadata": {},
   "source": [
    "#### Ejemplo 9\n",
    "\n",
    "El espacio muestral S son todos los pares ordenados de dos números enteros, el primero de uno a tres y el segundo de uno a cuatro (ejemplo: (1, 4))."
   ]
  },
  {
   "cell_type": "markdown",
   "metadata": {},
   "source": [
    "**P1**. Cual es el espacio muestral.\n",
    "   \n",
    "```\n",
    "S = {\n",
    "      (1,2), (1,3), (1,4)\n",
    "      (2,2), (2,3), (2,4)\n",
    "      (3,2), (3,3), (3,4)\n",
    "    }\n",
    "```\n",
    "\n",
    "A continuación se muestra el codigo en python para generar el espacio muestral S"
   ]
  },
  {
   "cell_type": "code",
   "execution_count": 3,
   "metadata": {},
   "outputs": [
    {
     "data": {
      "text/plain": [
       "{(1, 2), (1, 3), (1, 4), (2, 2), (2, 3), (2, 4), (3, 2), (3, 3), (3, 4)}"
      ]
     },
     "metadata": {
      "scrapbook": {
       "mime_prefix": "",
       "name": "S"
      }
     },
     "output_type": "display_data"
    }
   ],
   "source": [
    "# Espacio muestral\n",
    "\n",
    "# Enunciado\n",
    "x_i = 1; x_f = 3 # coordenada x: Entero entre 1 y 3\n",
    "y_i = 2; y_f = 4 # coordenada y: Entero entre 2 y 4\n",
    "\n",
    "# Generación del espacio muestral\n",
    "S = {(i,j) for i in range(x_i, x_f + 1) for j in range(y_i, y_f + 1)}\n",
    "glue(\"S\",S)"
   ]
  },
  {
   "cell_type": "markdown",
   "metadata": {},
   "source": [
    "Finalmente el **Espacio muestal** $S = ${glue:}`S`"
   ]
  },
  {
   "cell_type": "markdown",
   "metadata": {},
   "source": [
    "**P2**. Supongamos que se definen los eventos **A** = la suma es par y **B** = el primer número es primo. Teniendo en cuenta esto se pide:"
   ]
  },
  {
   "cell_type": "markdown",
   "metadata": {},
   "source": [
    "* **$A = ?$**\n",
    "  \n",
    "  $$\n",
    "  A = \\left \\{(1,3), (2,2), (2,4), (3,3)\\right \\}\n",
    "  $$"
   ]
  },
  {
   "cell_type": "markdown",
   "metadata": {},
   "source": [
    "De este modo $A = ${glue:}`A`"
   ]
  },
  {
   "cell_type": "code",
   "execution_count": 4,
   "metadata": {},
   "outputs": [
    {
     "data": {
      "text/plain": [
       "{(1, 3), (2, 2), (2, 4), (3, 3)}"
      ]
     },
     "metadata": {
      "scrapbook": {
       "mime_prefix": "",
       "name": "A"
      }
     },
     "output_type": "display_data"
    }
   ],
   "source": [
    "# Generación de las salidas para el evento A (La suma es par)\n",
    "A = set(filter(lambda x : (x[0]+x[1])%2 == 0,S))\n",
    "glue(\"A\",A)"
   ]
  },
  {
   "cell_type": "markdown",
   "metadata": {},
   "source": [
    "* **$B = ?$**\n",
    "  \n",
    "  $$\n",
    "  B = \\left \\{(2,2), (2,3), (2,4), (3,2), (3,3), (3,4)\\right \\}\n",
    "  $$"
   ]
  },
  {
   "cell_type": "code",
   "execution_count": 5,
   "metadata": {},
   "outputs": [
    {
     "data": {
      "text/plain": [
       "{(2, 2), (2, 3), (2, 4), (3, 2), (3, 3), (3, 4)}"
      ]
     },
     "metadata": {
      "scrapbook": {
       "mime_prefix": "",
       "name": "B"
      }
     },
     "output_type": "display_data"
    }
   ],
   "source": [
    "# Generación de las salidas para el evento B (La primera coordenada es un primo)\n",
    "\n",
    "# Funcion que determina si un numero es primo\n",
    "def esPrimo(num):\n",
    "    if num == 1:\n",
    "        return False\n",
    "    result = True\n",
    "    mul = 1\n",
    "    for i in range(2,num//2):\n",
    "        if num%i == 0:\n",
    "            mul += 1\n",
    "            if (mul > 2):\n",
    "                result = False\n",
    "                break\n",
    "    return result \n",
    "\n",
    "# Generación de las salidas del evento B\n",
    "B = set(filter(lambda x : esPrimo(x[0]) == True,S))\n",
    "glue(\"B\",B)"
   ]
  },
  {
   "cell_type": "markdown",
   "metadata": {},
   "source": [
    "Luego $B = ${glue:}`B`"
   ]
  },
  {
   "cell_type": "markdown",
   "metadata": {},
   "source": [
    "* **$P(A) = ?$**\n",
    "  \n",
    "  $$\n",
    "  P(A) = \\frac{N(A)}{N} = \\frac{4}{9} \n",
    "  $$"
   ]
  },
  {
   "cell_type": "code",
   "execution_count": 6,
   "metadata": {},
   "outputs": [
    {
     "data": {
      "text/plain": [
       "0.4444444444444444"
      ]
     },
     "metadata": {
      "scrapbook": {
       "mime_prefix": "",
       "name": "P_A"
      }
     },
     "output_type": "display_data"
    }
   ],
   "source": [
    "N_A = len(A)\n",
    "N = len(S)\n",
    "\n",
    "# Calculo de P(A)\n",
    "P_A = prob(N_A,N)\n",
    "glue(\"P_A\",P_A)"
   ]
  },
  {
   "cell_type": "markdown",
   "metadata": {},
   "source": [
    "De modo que $P(A) = ${glue:}`P_A`"
   ]
  },
  {
   "cell_type": "markdown",
   "metadata": {},
   "source": [
    "*  **$P(B) = ?$**\n",
    "   \n",
    "   $$\n",
    "   P(B) = \\frac{N(B)}{N} = \\frac{6}{9} = \\frac{2}{3} \n",
    "   $$"
   ]
  },
  {
   "cell_type": "code",
   "execution_count": 7,
   "metadata": {},
   "outputs": [
    {
     "data": {
      "text/plain": [
       "0.6666666666666666"
      ]
     },
     "metadata": {
      "scrapbook": {
       "mime_prefix": "",
       "name": "P_B"
      }
     },
     "output_type": "display_data"
    }
   ],
   "source": [
    "N_B = len(B)\n",
    "N = len(S)\n",
    "\n",
    "# Calculo de P(A)\n",
    "P_B = prob(N_B,N)\n",
    "glue(\"P_B\",P_B)"
   ]
  },
  {
   "cell_type": "markdown",
   "metadata": {},
   "source": [
    "De modo que $P(B) = ${glue:}`P_B`"
   ]
  },
  {
   "cell_type": "markdown",
   "metadata": {},
   "source": [
    "* **$A y B = ?$**\n",
    "  \n",
    "  $$\n",
    "  A y B = A \\bigcap B = \\left \\{(2,2), (2,4), (3,3)\\right \\}\n",
    "  $$"
   ]
  },
  {
   "cell_type": "code",
   "execution_count": 8,
   "metadata": {},
   "outputs": [
    {
     "data": {
      "text/plain": [
       "{(2, 2), (2, 4), (3, 3)}"
      ]
     },
     "metadata": {
      "scrapbook": {
       "mime_prefix": "",
       "name": "A_and_B"
      }
     },
     "output_type": "display_data"
    }
   ],
   "source": [
    "# A and B\n",
    "A_and_B = A.intersection(B)\n",
    "glue(\"A_and_B\",A_and_B)"
   ]
  },
  {
   "cell_type": "markdown",
   "metadata": {},
   "source": [
    "Vemos que la salida $A \\bigcap B = ${glue:}`A_and_B`"
   ]
  },
  {
   "cell_type": "markdown",
   "metadata": {},
   "source": [
    "* **$P(A y B) = ?$**\n",
    "  \n",
    "  $$\n",
    "  P(A y B) = \\frac{N(A \\bigcap B)}{N} = \\frac{3}{9} = \\frac{1}{3} \n",
    "  $$"
   ]
  },
  {
   "cell_type": "code",
   "execution_count": 9,
   "metadata": {},
   "outputs": [
    {
     "data": {
      "text/plain": [
       "0.3333333333333333"
      ]
     },
     "metadata": {
      "scrapbook": {
       "mime_prefix": "",
       "name": "P__A_and_B"
      }
     },
     "output_type": "display_data"
    }
   ],
   "source": [
    "# P(A and B)\n",
    "N__A_and_B = len(A_and_B)\n",
    "P__A_and_B = prob(N__A_and_B,N)\n",
    "glue(\"P__A_and_B\",P__A_and_B)"
   ]
  },
  {
   "cell_type": "markdown",
   "metadata": {},
   "source": [
    "Asi $P(A \\bigcap B) = ${glue:}`P__A_and_B`"
   ]
  },
  {
   "cell_type": "markdown",
   "metadata": {},
   "source": [
    "* **$A o B = ?$**\n",
    "  $$\n",
    "  A o B = A \\bigcup B = \\left \\{(1,3), (2,2), (2,3), (2,4), (3,2), (3,3), (3,4)\\right \\}\n",
    "  $$"
   ]
  },
  {
   "cell_type": "code",
   "execution_count": 10,
   "metadata": {},
   "outputs": [
    {
     "data": {
      "text/plain": [
       "{(1, 3), (2, 2), (2, 3), (2, 4), (3, 2), (3, 3), (3, 4)}"
      ]
     },
     "metadata": {
      "scrapbook": {
       "mime_prefix": "",
       "name": "A_or_B"
      }
     },
     "output_type": "display_data"
    }
   ],
   "source": [
    "# A or B\n",
    "A_or_B = A.union(B)\n",
    "glue(\"A_or_B\",A_or_B)"
   ]
  },
  {
   "cell_type": "markdown",
   "metadata": {},
   "source": [
    "El resultado para el evento $A \\bigcup B = ${glue:}`A_or_B`"
   ]
  },
  {
   "cell_type": "markdown",
   "metadata": {},
   "source": [
    "* **$P(A o B) = ?$**\n",
    "  \n",
    "  $$\n",
    "  P(A o B) = \\frac{N(A \\bigcup B)}{N} = \\frac{7}{9} \n",
    "  $$"
   ]
  },
  {
   "cell_type": "code",
   "execution_count": 11,
   "metadata": {},
   "outputs": [
    {
     "data": {
      "text/plain": [
       "0.7777777777777778"
      ]
     },
     "metadata": {
      "scrapbook": {
       "mime_prefix": "",
       "name": "P__A_or_B"
      }
     },
     "output_type": "display_data"
    }
   ],
   "source": [
    "# P(A or B)\n",
    "N__A_or_B = len(A_or_B)\n",
    "P__A_or_B = prob(N__A_or_B,N)\n",
    "glue(\"P__A_or_B\",P__A_or_B)"
   ]
  },
  {
   "cell_type": "markdown",
   "metadata": {},
   "source": [
    "De modo $P(A \\bigcup B) = ${glue:}`P__A_or_B`"
   ]
  },
  {
   "cell_type": "markdown",
   "metadata": {},
   "source": [
    "* **$B' = ?$**\n",
    "  \n",
    "  $$\n",
    "  B' = \\left \\{(1,2), (1,3), (1,4)\\right \\}\n",
    "  $$"
   ]
  },
  {
   "cell_type": "code",
   "execution_count": 12,
   "metadata": {},
   "outputs": [
    {
     "data": {
      "text/plain": [
       "{(1, 2), (1, 3), (1, 4)}"
      ]
     },
     "metadata": {
      "scrapbook": {
       "mime_prefix": "",
       "name": "not_B"
      }
     },
     "output_type": "display_data"
    }
   ],
   "source": [
    "# B'\n",
    "not_B = S - B\n",
    "glue(\"not_B\",not_B)"
   ]
  },
  {
   "cell_type": "markdown",
   "metadata": {},
   "source": [
    "La salida para el evento $B' = ${glue:}`not_B`"
   ]
  },
  {
   "cell_type": "markdown",
   "metadata": {},
   "source": [
    "* **$P(B') = ?$**\n",
    "  \n",
    "  $$\n",
    "  P(B') =  \\frac{1}{3} \n",
    "  $$"
   ]
  },
  {
   "cell_type": "code",
   "execution_count": 13,
   "metadata": {},
   "outputs": [
    {
     "data": {
      "text/plain": [
       "0.3333333333333333"
      ]
     },
     "metadata": {
      "scrapbook": {
       "mime_prefix": "",
       "name": "P__not_B"
      }
     },
     "output_type": "display_data"
    }
   ],
   "source": [
    "# P(B')\n",
    "N__not_B = len(not_B)\n",
    "P__not_B = prob(N__not_B,N)\n",
    "glue(\"P__not_B\",P__not_B)"
   ]
  },
  {
   "cell_type": "markdown",
   "metadata": {},
   "source": [
    "Asi, $P(B') = ${glue:}`P__not_B`"
   ]
  },
  {
   "cell_type": "markdown",
   "metadata": {},
   "source": [
    "*  **$P(A) + P(A') = ?$**\n",
    "\n",
    "   $$\n",
    "   P(A') =  1 - P(A) = 1 - \\frac{4}{9} = \\frac{5}{9}\n",
    "   $$\n",
    "   \n",
    "   Luego:\n",
    "   \n",
    "   $$\n",
    "   P(A) + P(A') = \\frac{4}{9} + \\frac{5}{9} = \\frac{9}{9} = 1\n",
    "   $$"
   ]
  },
  {
   "cell_type": "code",
   "execution_count": 14,
   "metadata": {},
   "outputs": [
    {
     "data": {
      "text/plain": [
       "{(1, 2), (1, 4), (2, 3), (3, 2), (3, 4)}"
      ]
     },
     "metadata": {
      "scrapbook": {
       "mime_prefix": "",
       "name": "not_A"
      }
     },
     "output_type": "display_data"
    },
    {
     "data": {
      "text/plain": [
       "0.5555555555555556"
      ]
     },
     "metadata": {
      "scrapbook": {
       "mime_prefix": "",
       "name": "P__not_A"
      }
     },
     "output_type": "display_data"
    },
    {
     "name": "stdout",
     "output_type": "stream",
     "text": [
      "P(A) + P(A') = 0.4444444444444444 + 0.5555555555555556 = 1.0\n"
     ]
    }
   ],
   "source": [
    "# A'\n",
    "not_A = S - A\n",
    "glue(\"not_A\", not_A)\n",
    "\n",
    "# P(A')\n",
    "N__not_A = len(not_A)\n",
    "P__not_A = prob(N__not_A,N)\n",
    "glue(\"P__not_A\", P__not_A)\n",
    "\n",
    "# P(A) + P(A') = 1\n",
    "sum_probs = P_A + P__not_A\n",
    "print(\"P(A) + P(A') = \", P_A, \" + \", P__not_A, \" = \", sum_probs, sep =\"\")"
   ]
  },
  {
   "cell_type": "markdown",
   "metadata": {},
   "source": [
    "* **$P(A|B) = ?$**\n",
    "\n",
    "  Aplicando la definición de **Probabilidad condicional** tenemos que para $B = \\left \\{(2,2), (2,3), (2,4), (3,2), (3,3), (3,4)\\right \\}$ solo cumplen la condición de que la suma sea par (evento $A$): $\\left \\{(2,2), (2,4), (3,3)\\right \\}$ de modo que:\n",
    "  \n",
    "  $$\n",
    "  P(A|B) = \\frac{3}{6} = \\frac{1}{2}\n",
    "  $$\n",
    "\n",
    "  Por otro lado, si se hubiera usado la **formula de probabilidad condicional** tedriamos el siguiente resultado:\n",
    "  \n",
    "  $$\n",
    "  P(A|B) = \\frac{P(A \\bigcap B)}{P(B)} = \\frac{\\frac{1}{3}}{\\frac{2}{3}} = \\frac{1}{2}\n",
    "  $$\n"
   ]
  },
  {
   "cell_type": "code",
   "execution_count": 15,
   "metadata": {},
   "outputs": [
    {
     "data": {
      "text/plain": [
       "{(2, 2), (2, 3), (2, 4), (3, 2), (3, 3), (3, 4)}"
      ]
     },
     "metadata": {
      "scrapbook": {
       "mime_prefix": "",
       "name": "B"
      }
     },
     "output_type": "display_data"
    },
    {
     "data": {
      "text/plain": [
       "{(2, 2), (2, 4), (3, 3)}"
      ]
     },
     "metadata": {
      "scrapbook": {
       "mime_prefix": "",
       "name": "A_in_B"
      }
     },
     "output_type": "display_data"
    },
    {
     "name": "stdout",
     "output_type": "stream",
     "text": [
      "Forma 1: P(A|B) = 0.5\n"
     ]
    }
   ],
   "source": [
    "# Forma 1\n",
    "# Generación de las salidas del evento B\n",
    "A_in_B = set(filter(lambda x : (x[0]+x[1])%2 == 0,B))\n",
    "glue(\"B\",B)\n",
    "glue(\"A_in_B\",A_in_B)\n",
    "P__A_dado_B1 = len(A_in_B)/len(B)\n",
    "print(\"Forma 1: P(A|B) = \", P__A_dado_B1, sep=\"\")"
   ]
  },
  {
   "cell_type": "code",
   "execution_count": 16,
   "metadata": {},
   "outputs": [
    {
     "data": {
      "text/plain": [
       "0.5"
      ]
     },
     "metadata": {
      "scrapbook": {
       "mime_prefix": "",
       "name": "P__A_dado_B"
      }
     },
     "output_type": "display_data"
    },
    {
     "name": "stdout",
     "output_type": "stream",
     "text": [
      "Forma 2: P(A|B) = 0.5\n"
     ]
    }
   ],
   "source": [
    "# Forma 2\n",
    "# Aplicacion de la formula de probabilidad condicional\n",
    "P__A_dado_B2 = P__A_and_B/P_B\n",
    "glue(\"P__A_dado_B\",P__A_dado_B2)\n",
    "print(\"Forma 2: P(A|B) = \", P__A_dado_B2, sep=\"\")"
   ]
  },
  {
   "cell_type": "markdown",
   "metadata": {},
   "source": [
    "* **$P(B|A) = ?$**\n",
    "  \n",
    "  Tenemos que para $A = \\left \\{(1,3), (2,2), (2,4), (3,3)\\right \\}$ solo cumplen la condición de que el primer numero de estos sea primo (evento $B$): $\\left \\{(2,2), (2,4), (3,3)\\right \\}$ de modo que:\n",
    "\n",
    "  $$\n",
    "  P(B|A) = \\frac{3}{4} \n",
    "  $$\n",
    "\n",
    "  Si se hubiera usado la formula tedriamos el siguiente resultado:\n",
    "  \n",
    "  $$\n",
    "  P(B|A) = \\frac{P(A \\bigcap B)}{P(A)} = \\frac{\\frac{1}{3}}{\\frac{4}{9}} = \\frac{9}{12} = \\frac{3}{4}\n",
    "  $$\n"
   ]
  },
  {
   "cell_type": "code",
   "execution_count": 17,
   "metadata": {},
   "outputs": [
    {
     "data": {
      "text/plain": [
       "{(1, 3), (2, 2), (2, 4), (3, 3)}"
      ]
     },
     "metadata": {
      "scrapbook": {
       "mime_prefix": "",
       "name": "B"
      }
     },
     "output_type": "display_data"
    },
    {
     "data": {
      "text/plain": [
       "{(2, 2), (2, 4), (3, 3)}"
      ]
     },
     "metadata": {
      "scrapbook": {
       "mime_prefix": "",
       "name": "B_in_A"
      }
     },
     "output_type": "display_data"
    },
    {
     "name": "stdout",
     "output_type": "stream",
     "text": [
      "Forma 1: P(B|A) = 0.75\n"
     ]
    }
   ],
   "source": [
    "# Forma 1\n",
    "# Generación de las salidas del evento B\n",
    "B_in_A = set(filter(lambda x : esPrimo(x[0]) == True,A))\n",
    "glue(\"B\",A)\n",
    "glue(\"B_in_A\",B_in_A)\n",
    "P__B_dado_A1 = len(B_in_A)/len(A)\n",
    "print(\"Forma 1: P(B|A) = \", P__B_dado_A1, sep=\"\")"
   ]
  },
  {
   "cell_type": "code",
   "execution_count": 18,
   "metadata": {},
   "outputs": [
    {
     "data": {
      "text/plain": [
       "0.75"
      ]
     },
     "metadata": {
      "scrapbook": {
       "mime_prefix": "",
       "name": "P__B_dado_A"
      }
     },
     "output_type": "display_data"
    },
    {
     "name": "stdout",
     "output_type": "stream",
     "text": [
      "Forma 2: P(B|A) = 0.75\n"
     ]
    }
   ],
   "source": [
    "# Forma 2\n",
    "# Aplicacion de la formula de probabilidad condicional\n",
    "P__B_dado_A2 = P__A_and_B/P_A\n",
    "glue(\"P__B_dado_A\",P__B_dado_A2)\n",
    "print(\"Forma 2: P(B|A) = \", P__B_dado_A2, sep=\"\")"
   ]
  },
  {
   "cell_type": "markdown",
   "metadata": {},
   "source": [
    "La siguiente tabla resume todos los resultados del ejercicio anterior:\n",
    "\n",
    "|Variable|Resultado|\n",
    "|---|---|\n",
    "|$S$|{glue:}`S`|\n",
    "|$A$|{glue:}`A`|\n",
    "|$P(A)$|{glue:}`P_A`|\n",
    "|$B$|{glue:}`B`|\n",
    "|$P(B)$|{glue:}`P_B`|\n",
    "|$A'$|{glue:}`not_A`|\n",
    "|$P(A')$|{glue:}`P__not_A`|\n",
    "|$B'$|{glue:}`not_B`|\n",
    "|$P(B')$|{glue:}`P__not_B`|\n",
    "|$A \\bigcap B$|{glue:}`A_and_B`|\n",
    "|$P(A \\bigcap B)$|{glue:}`P__A_and_B`|\n",
    "|$A \\bigcup B$|{glue:}`A_or_B`|\n",
    "|$P(A \\bigcup B)$|{glue:}`P__A_or_B`|\n",
    "|$P(A \\vert B)$|{glue:}`P__A_dado_B`|\n",
    "|$P(B \\vert A)$|{glue:}`P__B_dado_A`|"
   ]
  },
  {
   "cell_type": "markdown",
   "metadata": {},
   "source": [
    "## Referencias\n",
    "1. Statistics Openstax (https://openstax.org/details/books/statistics)\n",
    "2. Introduction to Statistics and Data Analisys (Roxy Peck, Chris Olsen, Jay L. Devore)\n",
    "3. The practice of Statistics (Starnes, Yates, Moore)\n",
    "4. Probability and Stochastic Processes. A friendly introduction for Electrical and Computer Engineers (Yates, Goodman).\n",
    "5. https://www.randomservices.org/random/index.html\n",
    "6. https://bolt.mph.ufl.edu/6050-6052/\n",
    "7. https://discovery.cs.illinois.edu/learn/Simulation-and-Distributions/Law-of-Large-Numbers/\n",
    "8. https://discovery.cs.illinois.edu/learn/\n",
    "9. https://www.randomservices.org/random/index.html\n",
    "10. https://www.geogebra.org/m/UsoH4eNl\n",
    "11. https://www.stapplet.com/\n",
    "12. https://probability4datascience.com/index.html\n",
    "13. https://www.probabilitycourse.com/\n",
    "\n"
   ]
  }
 ],
 "metadata": {
  "kernelspec": {
   "display_name": "Python 3.8.8 ('base')",
   "language": "python",
   "name": "python3"
  },
  "language_info": {
   "codemirror_mode": {
    "name": "ipython",
    "version": 3
   },
   "file_extension": ".py",
   "mimetype": "text/x-python",
   "name": "python",
   "nbconvert_exporter": "python",
   "pygments_lexer": "ipython3",
   "version": "3.9.13"
  },
  "vscode": {
   "interpreter": {
    "hash": "e06ff7da33dc9620448857a90ad8b5f428f0d573d205a934d2841c8aee45ea32"
   }
  },
  "widgets": {
   "application/vnd.jupyter.widget-state+json": {
    "state": {},
    "version_major": 2,
    "version_minor": 0
   }
  }
 },
 "nbformat": 4,
 "nbformat_minor": 4
}