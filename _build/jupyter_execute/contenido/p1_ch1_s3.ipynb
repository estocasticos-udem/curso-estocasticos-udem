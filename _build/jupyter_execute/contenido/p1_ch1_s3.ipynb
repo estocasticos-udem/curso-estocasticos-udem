{
 "cells": [
  {
   "cell_type": "code",
   "execution_count": 1,
   "metadata": {},
   "outputs": [
    {
     "ename": "ModuleNotFoundError",
     "evalue": "No module named 'scipy'",
     "output_type": "error",
     "traceback": [
      "\u001b[1;31m---------------------------------------------------------------------------\u001b[0m",
      "\u001b[1;31mModuleNotFoundError\u001b[0m                       Traceback (most recent call last)",
      "\u001b[1;32m<ipython-input-1-7929bf68315b>\u001b[0m in \u001b[0;36m<module>\u001b[1;34m\u001b[0m\n\u001b[0;32m      1\u001b[0m \u001b[1;32mimport\u001b[0m \u001b[0mnumpy\u001b[0m \u001b[1;32mas\u001b[0m \u001b[0mnp\u001b[0m\u001b[1;33m\u001b[0m\u001b[1;33m\u001b[0m\u001b[0m\n\u001b[0;32m      2\u001b[0m \u001b[1;32mimport\u001b[0m \u001b[0mpandas\u001b[0m \u001b[1;32mas\u001b[0m \u001b[0mpd\u001b[0m\u001b[1;33m\u001b[0m\u001b[1;33m\u001b[0m\u001b[0m\n\u001b[1;32m----> 3\u001b[1;33m \u001b[1;32mfrom\u001b[0m \u001b[0mscipy\u001b[0m\u001b[1;33m.\u001b[0m\u001b[0mstats\u001b[0m \u001b[1;32mimport\u001b[0m \u001b[0mtrim_mean\u001b[0m\u001b[1;33m\u001b[0m\u001b[1;33m\u001b[0m\u001b[0m\n\u001b[0m\u001b[0;32m      4\u001b[0m \u001b[1;32mimport\u001b[0m \u001b[0mmatplotlib\u001b[0m\u001b[1;33m.\u001b[0m\u001b[0mpyplot\u001b[0m \u001b[1;32mas\u001b[0m \u001b[0mplt\u001b[0m\u001b[1;33m\u001b[0m\u001b[1;33m\u001b[0m\u001b[0m\n\u001b[0;32m      5\u001b[0m \u001b[1;32mimport\u001b[0m \u001b[0mseaborn\u001b[0m \u001b[1;32mas\u001b[0m \u001b[0msns\u001b[0m\u001b[1;33m\u001b[0m\u001b[1;33m\u001b[0m\u001b[0m\n",
      "\u001b[1;31mModuleNotFoundError\u001b[0m: No module named 'scipy'"
     ]
    }
   ],
   "source": [
    "import numpy as np\n",
    "import pandas as pd\n",
    "from scipy.stats import trim_mean\n",
    "import matplotlib.pyplot as plt\n",
    "import seaborn as sns"
   ]
  },
  {
   "cell_type": "markdown",
   "metadata": {},
   "source": [
    "# Diagramas\n",
    "\n",
    "En la estadistica es muy común el uso de representaciones visuales para mostrar el comportamiendo de los datos, las cuales seran mostradas a continuación.\n",
    "\n",
    "## Histograma\n",
    "\n",
    "```{admonition} Definición\n",
    "Un **histograma** es una representación gráfica de una variable en forma de barras en la cual, la superficie de la barra es proporsional a la *frecuencia* de los valores representados. Son utiles por que sirven para obtener un panorama general de la forma como se distribuyen los datos.\n",
    "```\n",
    "La construcción de un histograms depende del tipo de datos que se esten empleando (discretos o continuos) tal y como de describe a continuación.\n",
    "\n",
    "### Histograma a partir de datos discretos \n",
    " \n",
    "En primer lugar, se determinan la *frecuencia* y la *frecuencia* relativa de cada valor $x_i$. Luego se marcan los valores $x_i$ posibles en una escala horizontal. Sobre cada valor se traza un rectángulo cuya altura es la frecuencia relativa (o alternativamente, la frecuencia) de dicho valor: Los rectángulos deben medir lo mismo de ancho.\n",
    "\n",
    "#### Ejemplo 1\n",
    "\n",
    "¿Qué tan inusual es un juego de beisbol sin [hit](https://es.wikipedia.org/wiki/Hit_(b%C3%A9isbol)) o de un hit en las ligas mayores y cuán frecuentemente un equipo pega más de 10, 15 o incluso 20 hits? La siguiente tabla muestra el numero de hits conectados por equipo y por juego de todos los juegos de nueve episodios que se jugaron entre 1989 y 1993. (**Nota**: Este ejemplo fue tomado del libro **Probabilidad y estadistica para Ciencias e Ingenieria** (Jay L. Devore)).\n",
    "\n",
    "|Hits/juego|Numero de juegos|\n",
    "|---|---|\n",
    "|0 | 20 | \n",
    "|1 | 72 | \n",
    "|2 | 209 | \n",
    "|3 | 527 | \n",
    "|4 | 1048 | \n",
    "|5 | 1457 | \n",
    "|6 | 1988 | \n",
    "|7 | 2256 | \n",
    "|8 | 2403 | \n",
    "|9 | 2256 | \n",
    "|10 | 1967 | \n",
    "|11 | 1509 | \n",
    "|12 | 1230 | \n",
    "|13 | 834 | \n",
    "|14 | 569 | \n",
    "|15 | 393 | \n",
    "|16 | 253 | \n",
    "|17 | 171 | \n",
    "|18 | 97 | \n",
    "|19 | 53 | \n",
    "|20 | 31 | \n",
    "|21 | 19 | \n",
    "|22 | 13 | \n",
    "|23 | 5 | \n",
    "|24 | 1 | \n",
    "|25 | 0 | \n",
    "|26 | 1 | \n",
    "|27 | 1 | \n",
    "\n",
    "Se pide:\n",
    "1. Defina el DataFrame asociado a la tabla\n",
    "2. Calcule la frecuencia relativa.\n",
    "3. Dibuje el histograma."
   ]
  },
  {
   "cell_type": "code",
   "execution_count": 40,
   "metadata": {},
   "outputs": [
    {
     "data": {
      "text/html": [
       "<div>\n",
       "<style scoped>\n",
       "    .dataframe tbody tr th:only-of-type {\n",
       "        vertical-align: middle;\n",
       "    }\n",
       "\n",
       "    .dataframe tbody tr th {\n",
       "        vertical-align: top;\n",
       "    }\n",
       "\n",
       "    .dataframe thead th {\n",
       "        text-align: right;\n",
       "    }\n",
       "</style>\n",
       "<table border=\"1\" class=\"dataframe\">\n",
       "  <thead>\n",
       "    <tr style=\"text-align: right;\">\n",
       "      <th></th>\n",
       "      <th>hits_per_game</th>\n",
       "      <th>games</th>\n",
       "    </tr>\n",
       "  </thead>\n",
       "  <tbody>\n",
       "    <tr>\n",
       "      <th>0</th>\n",
       "      <td>0</td>\n",
       "      <td>20</td>\n",
       "    </tr>\n",
       "    <tr>\n",
       "      <th>1</th>\n",
       "      <td>1</td>\n",
       "      <td>72</td>\n",
       "    </tr>\n",
       "    <tr>\n",
       "      <th>2</th>\n",
       "      <td>2</td>\n",
       "      <td>209</td>\n",
       "    </tr>\n",
       "    <tr>\n",
       "      <th>3</th>\n",
       "      <td>3</td>\n",
       "      <td>527</td>\n",
       "    </tr>\n",
       "    <tr>\n",
       "      <th>4</th>\n",
       "      <td>4</td>\n",
       "      <td>1048</td>\n",
       "    </tr>\n",
       "  </tbody>\n",
       "</table>\n",
       "</div>"
      ],
      "text/plain": [
       "   hits_per_game  games\n",
       "0              0     20\n",
       "1              1     72\n",
       "2              2    209\n",
       "3              3    527\n",
       "4              4   1048"
      ]
     },
     "execution_count": 40,
     "metadata": {},
     "output_type": "execute_result"
    }
   ],
   "source": [
    "# 1\n",
    "raw_data = {\"hits_per_game\":np.arange(28),\n",
    "            \"games\": [20, 72, 209, 527, 1048, 1457, 1988, 2256, 2403, \n",
    "                      2256, 1967, 1509, 1230, 834, 569, 393, 253, 171, \n",
    "                      97, 53, 31, 19, 13, 5, 1, 0, 1, 1]\n",
    "           }\n",
    "\n",
    "df = pd.DataFrame(raw_data, columns = raw_data.keys())\n",
    "df.head()\n"
   ]
  },
  {
   "cell_type": "code",
   "execution_count": 41,
   "metadata": {},
   "outputs": [
    {
     "data": {
      "text/html": [
       "<div>\n",
       "<style scoped>\n",
       "    .dataframe tbody tr th:only-of-type {\n",
       "        vertical-align: middle;\n",
       "    }\n",
       "\n",
       "    .dataframe tbody tr th {\n",
       "        vertical-align: top;\n",
       "    }\n",
       "\n",
       "    .dataframe thead th {\n",
       "        text-align: right;\n",
       "    }\n",
       "</style>\n",
       "<table border=\"1\" class=\"dataframe\">\n",
       "  <thead>\n",
       "    <tr style=\"text-align: right;\">\n",
       "      <th></th>\n",
       "      <th>hits_per_game</th>\n",
       "      <th>games</th>\n",
       "      <th>freq_rel</th>\n",
       "    </tr>\n",
       "  </thead>\n",
       "  <tbody>\n",
       "    <tr>\n",
       "      <th>0</th>\n",
       "      <td>0</td>\n",
       "      <td>20</td>\n",
       "      <td>0.001032</td>\n",
       "    </tr>\n",
       "    <tr>\n",
       "      <th>1</th>\n",
       "      <td>1</td>\n",
       "      <td>72</td>\n",
       "      <td>0.003715</td>\n",
       "    </tr>\n",
       "    <tr>\n",
       "      <th>2</th>\n",
       "      <td>2</td>\n",
       "      <td>209</td>\n",
       "      <td>0.010783</td>\n",
       "    </tr>\n",
       "    <tr>\n",
       "      <th>3</th>\n",
       "      <td>3</td>\n",
       "      <td>527</td>\n",
       "      <td>0.027189</td>\n",
       "    </tr>\n",
       "    <tr>\n",
       "      <th>4</th>\n",
       "      <td>4</td>\n",
       "      <td>1048</td>\n",
       "      <td>0.054068</td>\n",
       "    </tr>\n",
       "  </tbody>\n",
       "</table>\n",
       "</div>"
      ],
      "text/plain": [
       "   hits_per_game  games  freq_rel\n",
       "0              0     20  0.001032\n",
       "1              1     72  0.003715\n",
       "2              2    209  0.010783\n",
       "3              3    527  0.027189\n",
       "4              4   1048  0.054068"
      ]
     },
     "execution_count": 41,
     "metadata": {},
     "output_type": "execute_result"
    }
   ],
   "source": [
    "# 2\n",
    "df_freq = df.copy()\n",
    "df_freq['freq_rel']= df['games']/df['games'].sum()\n",
    "df_freq.head()"
   ]
  },
  {
   "cell_type": "code",
   "execution_count": 6,
   "metadata": {},
   "outputs": [
    {
     "name": "stdout",
     "output_type": "stream",
     "text": [
      "Catidad total de juegos 19383\n",
      "Suma de las frecuencias 1.0\n"
     ]
    }
   ],
   "source": [
    "print(\"Catidad total de juegos\", df_freq['games'].sum())\n",
    "print(\"Suma de las frecuencias\", df_freq['freq_rel'].sum())"
   ]
  },
  {
   "cell_type": "code",
   "execution_count": 38,
   "metadata": {},
   "outputs": [
    {
     "data": {
      "image/png": "[encoded data removed]",
      "text/plain": [
       "<Figure size 432x288 with 1 Axes>"
      ]
     },
     "metadata": {
      "filenames": {
       "image/png": "C:\\Users\\Usuario\\Documents\\UdeM\\repositorios_udem\\curso-estocasticos-udem\\_build\\jupyter_execute\\contenido\\p1_ch1_s3_5_0.png"
      },
      "needs_background": "light"
     },
     "output_type": "display_data"
    }
   ],
   "source": [
    "# Ya se han contado los elementos (se uso pandas para el histograma) \n",
    "df_freq['freq_rel'].plot(kind='bar', \n",
    "                         title ='Histograma del número de hits por juego de nueve entradas',\n",
    "                         xlabel=\"Hits/Juego\",\n",
    "                         ylabel=\"Frecuencia relativa\");\n"
   ]
  },
  {
   "cell_type": "markdown",
   "metadata": {},
   "source": [
    "### Histograma a partir de datos continuos\n",
    "En este caso, se divide el eje de medición entre un número adecuado de **intervalos de clase o clases** (**bins**). Cuando el ancho de las clases es el mismo, lo que se hace es determinar la frecuencia y la frecuencia relativa de cada clase contando la cantidad de muestras que se encuentran dentro de cada intervalo y usando frecuencia relativa como la altura del correspondiente intervalo.\n",
    "\n",
    "#### Ejemplo 2\n",
    "\n",
    "Los siguientes datos muestran la cantidad de horas dedicadas a jugar juegos de video de un grupo de estudiantes.\n",
    "\n",
    "```\n",
    "9.95  10  2.25  16.75  0\n",
    "19.5  22.5  7.5  15  12.75\n",
    "5.5  11\t 10  20.75  17.5\n",
    "23  21.9  24  23.75  18\n",
    "20  15  22.9  18.8  20.5\n",
    "```\n",
    "\n",
    "Construya un histograma agrupando los datos en cinco clases.\n",
    "\n",
    "##### Grafica empleando Matplotlib"
   ]
  },
  {
   "cell_type": "code",
   "execution_count": 33,
   "metadata": {},
   "outputs": [
    {
     "data": {
      "text/plain": [
       "array([ 9.95, 10.  ,  2.25, 16.75,  0.  , 19.5 , 22.5 ,  7.5 , 15.  ,\n",
       "       12.75,  5.5 , 11.  , 10.  , 20.75, 17.5 , 23.  , 21.9 , 24.  ,\n",
       "       23.75, 18.  , 20.  , 15.  , 22.9 , 18.8 , 20.5 ])"
      ]
     },
     "execution_count": 33,
     "metadata": {},
     "output_type": "execute_result"
    }
   ],
   "source": [
    "# --- Usando Numpy ---\n",
    "# Creacion de la tabla\n",
    "data = np.array([9.95, 10, 2.25, 16.75, 0, 19.5, 22.5, 7.5, 15, 12.75,\n",
    "        5.5, 11, 10, 20.75, 17.5, 23, 21.9, 24, 23.75, 18,\n",
    "        20, 15, 22.9, 18.8, 20.5])\n",
    "data"
   ]
  },
  {
   "cell_type": "code",
   "execution_count": 70,
   "metadata": {},
   "outputs": [
    {
     "data": {
      "text/plain": [
       "(array([ 2,  2,  5,  6, 10], dtype=int64),\n",
       " array([ 0. ,  4.8,  9.6, 14.4, 19.2, 24. ]))"
      ]
     },
     "execution_count": 70,
     "metadata": {},
     "output_type": "execute_result"
    }
   ],
   "source": [
    "# Histograma de cinco grupos\n",
    "plt.style.use('classic')\n",
    "hist = np.histogram(data, bins=5)\n",
    "hist"
   ]
  },
  {
   "cell_type": "code",
   "execution_count": 37,
   "metadata": {},
   "outputs": [
    {
     "data": {
      "image/png": "[encoded data removed]",
      "text/plain": [
       "<Figure size 432x288 with 1 Axes>"
      ]
     },
     "metadata": {
      "filenames": {
       "image/png": "C:\\Users\\Usuario\\Documents\\UdeM\\repositorios_udem\\curso-estocasticos-udem\\_build\\jupyter_execute\\contenido\\p1_ch1_s3_9_0.png"
      },
      "needs_background": "light"
     },
     "output_type": "display_data"
    }
   ],
   "source": [
    "# Grafica del histograma usando Matplotlib\n",
    "fig, ax = plt.subplots()\n",
    "\n",
    "ax.hist(data, bins=5,histtype='bar', rwidth=0.5)\n",
    "ax.set_xlabel(\"Horas de juego\");\n",
    "ax.set_ylabel(\"Numero de estudiantes\");\n",
    "ax.set_title('Histograma'); "
   ]
  },
  {
   "cell_type": "markdown",
   "metadata": {},
   "source": [
    "##### Grafica empleando Pandas"
   ]
  },
  {
   "cell_type": "code",
   "execution_count": 49,
   "metadata": {},
   "outputs": [
    {
     "data": {
      "text/html": [
       "<div>\n",
       "<style scoped>\n",
       "    .dataframe tbody tr th:only-of-type {\n",
       "        vertical-align: middle;\n",
       "    }\n",
       "\n",
       "    .dataframe tbody tr th {\n",
       "        vertical-align: top;\n",
       "    }\n",
       "\n",
       "    .dataframe thead th {\n",
       "        text-align: right;\n",
       "    }\n",
       "</style>\n",
       "<table border=\"1\" class=\"dataframe\">\n",
       "  <thead>\n",
       "    <tr style=\"text-align: right;\">\n",
       "      <th></th>\n",
       "      <th>hours</th>\n",
       "    </tr>\n",
       "  </thead>\n",
       "  <tbody>\n",
       "    <tr>\n",
       "      <th>0</th>\n",
       "      <td>9.95</td>\n",
       "    </tr>\n",
       "    <tr>\n",
       "      <th>1</th>\n",
       "      <td>10.00</td>\n",
       "    </tr>\n",
       "    <tr>\n",
       "      <th>2</th>\n",
       "      <td>2.25</td>\n",
       "    </tr>\n",
       "    <tr>\n",
       "      <th>3</th>\n",
       "      <td>16.75</td>\n",
       "    </tr>\n",
       "    <tr>\n",
       "      <th>4</th>\n",
       "      <td>0.00</td>\n",
       "    </tr>\n",
       "  </tbody>\n",
       "</table>\n",
       "</div>"
      ],
      "text/plain": [
       "   hours\n",
       "0   9.95\n",
       "1  10.00\n",
       "2   2.25\n",
       "3  16.75\n",
       "4   0.00"
      ]
     },
     "execution_count": 49,
     "metadata": {},
     "output_type": "execute_result"
    }
   ],
   "source": [
    "# Creacion del dataframe\n",
    "data = np.array([9.95, 10, 2.25, 16.75, 0, 19.5, 22.5, 7.5, 15, 12.75,\n",
    "        5.5, 11, 10, 20.75, 17.5, 23, 21.9, 24, 23.75, 18,\n",
    "        20, 15, 22.9, 18.8, 20.5])\n",
    "\n",
    "df = pd.DataFrame({'hours': data})\n",
    "df.head() "
   ]
  },
  {
   "cell_type": "code",
   "execution_count": 50,
   "metadata": {},
   "outputs": [
    {
     "data": {
      "text/plain": [
       "(-0.024, 4.8]     2\n",
       "(4.8, 9.6]        2\n",
       "(9.6, 14.4]       5\n",
       "(14.4, 19.2]      6\n",
       "(19.2, 24.0]     10\n",
       "Name: hours, dtype: int64"
      ]
     },
     "execution_count": 50,
     "metadata": {},
     "output_type": "execute_result"
    }
   ],
   "source": [
    "hist = pd.cut(df['hours'], bins = 5).value_counts().sort_values(ascending=True)\n",
    "hist"
   ]
  },
  {
   "cell_type": "code",
   "execution_count": 64,
   "metadata": {},
   "outputs": [
    {
     "data": {
      "image/png": "[encoded data removed]",
      "text/plain": [
       "<Figure size 576x396 with 1 Axes>"
      ]
     },
     "metadata": {
      "filenames": {
       "image/png": "C:\\Users\\Usuario\\Documents\\UdeM\\repositorios_udem\\curso-estocasticos-udem\\_build\\jupyter_execute\\contenido\\p1_ch1_s3_13_0.png"
      }
     },
     "output_type": "display_data"
    }
   ],
   "source": [
    "plt.style.use('ggplot')\n",
    "hist.plot(kind='bar',xlabel=\"Horas de juego\", ylabel=\"Numero de estudiantes\",title=\"Histograma\");"
   ]
  },
  {
   "cell_type": "markdown",
   "metadata": {},
   "source": [
    "##### Grafica empleando Seaborn"
   ]
  },
  {
   "cell_type": "code",
   "execution_count": 65,
   "metadata": {},
   "outputs": [
    {
     "data": {
      "image/png": "[encoded data removed]",
      "text/plain": [
       "<Figure size 576x396 with 1 Axes>"
      ]
     },
     "metadata": {
      "filenames": {
       "image/png": "C:\\Users\\Usuario\\Documents\\UdeM\\repositorios_udem\\curso-estocasticos-udem\\_build\\jupyter_execute\\contenido\\p1_ch1_s3_15_0.png"
      }
     },
     "output_type": "display_data"
    }
   ],
   "source": [
    "plt.style.use('seaborn-darkgrid')\n",
    "sns.histplot(df,\n",
    "             bins=5,\n",
    "             x=\"hours\",\n",
    "             kde=True,\n",
    "             shrink=.5);"
   ]
  },
  {
   "cell_type": "markdown",
   "metadata": {},
   "source": [
    "#### Ejemplo 3\n",
    "\n",
    "El artículo **\"Determination of Most Representative Subdivision\"** (J. of Energy Engr., 1993: 43-55) proporciona datos sobre varias características de subdivisiones que podrían utilizarse para decidir si se suministra energía eléctrica mediante líneas elevadas o por medio de líneas subterráneas. He aquí los valores de la variable *x = longitud total de calles dentro de una subdivisión*:\n",
    "\n",
    "```\n",
    "1280 5320 4390 2100 1240 3060 4770\n",
    "1050 360 3330 3380 340 1000 960\n",
    "1320 530 3350 540 3870 1250 2400\n",
    "960 1120 2120 450 2250 2320 2400\n",
    "3150 5700 5220 500 1850 2460 5850\n",
    "2700 2730 1670 100 5770 3150 1890\n",
    "510 240 396 1419 2109\n",
    "```\n",
    "\n",
    "Construya un histograma con los límites de clase, 0, 1000, 2000, 3000, 4000, 5000 y 6000."
   ]
  },
  {
   "cell_type": "markdown",
   "metadata": {},
   "source": [
    "##### Solución empleando Matplolib"
   ]
  },
  {
   "cell_type": "code",
   "execution_count": 71,
   "metadata": {},
   "outputs": [
    {
     "name": "stdout",
     "output_type": "stream",
     "text": [
      "[1280, 5320, 4390, 2100, 1240, 3060, 4770, 1050, 360, 3330, 3380, 340, 1000, 960, 1320, 530, 3350, 540, 3870, 1250, 2400, 960, 1120, 2120, 450, 2250, 2320, 2400, 3150, 5700, 5220, 500, 1850, 2460, 5850, 2700, 2730, 1670, 100, 5770, 3150, 1890, 510, 240, 396, 1419, 2109]\n"
     ]
    }
   ],
   "source": [
    "# Usando Numpy\n",
    "# Creacion de la tabla\n",
    "data = [1280, 5320, 4390, 2100, 1240, 3060, 4770, 1050, 360, 3330, 3380, 340, 1000, 960,\n",
    "        1320, 530, 3350, 540, 3870, 1250, 2400, 960, 1120, 2120, 450, 2250, 2320, 2400, \n",
    "        3150, 5700, 5220, 500, 1850, 2460, 5850, 2700, 2730, 1670, 100, 5770, 3150, 1890,\n",
    "        510, 240, 396, 1419, 2109]\n",
    "print(data)"
   ]
  },
  {
   "cell_type": "code",
   "execution_count": 72,
   "metadata": {},
   "outputs": [
    {
     "data": {
      "text/plain": [
       "(array([12, 11, 10,  7,  2,  5], dtype=int64),\n",
       " array([   0., 1000., 2000., 3000., 4000., 5000., 6000.]))"
      ]
     },
     "execution_count": 72,
     "metadata": {},
     "output_type": "execute_result"
    }
   ],
   "source": [
    "hist = np.histogram(data, bins=6, range=(0,6000))\n",
    "hist"
   ]
  },
  {
   "cell_type": "code",
   "execution_count": 83,
   "metadata": {},
   "outputs": [
    {
     "data": {
      "image/png": "[encoded data removed]",
      "text/plain": [
       "<Figure size 640x480 with 1 Axes>"
      ]
     },
     "metadata": {
      "filenames": {
       "image/png": "C:\\Users\\Usuario\\Documents\\UdeM\\repositorios_udem\\curso-estocasticos-udem\\_build\\jupyter_execute\\contenido\\p1_ch1_s3_20_0.png"
      }
     },
     "output_type": "display_data"
    }
   ],
   "source": [
    "fig, ax = plt.subplots()\n",
    "ax.hist(data, bins=6, range=(0,6000), rwidth = 0.5);\n",
    "ax.set_xlabel(\"Longitud de las calles\");\n",
    "ax.set_ylabel(\"Numero de calles\");\n",
    "plt.title('Histograma');\n",
    "#plt.title('Histograma de longitud total de calles dentro de una subdivisión')\n",
    "#plt.grid(True)\n",
    "#plt.hist(data, bins=6, range=(0,6000));"
   ]
  },
  {
   "cell_type": "markdown",
   "metadata": {},
   "source": [
    "##### Solución empleando Pandas"
   ]
  },
  {
   "cell_type": "code",
   "execution_count": 84,
   "metadata": {},
   "outputs": [
    {
     "data": {
      "text/html": [
       "<div>\n",
       "<style scoped>\n",
       "    .dataframe tbody tr th:only-of-type {\n",
       "        vertical-align: middle;\n",
       "    }\n",
       "\n",
       "    .dataframe tbody tr th {\n",
       "        vertical-align: top;\n",
       "    }\n",
       "\n",
       "    .dataframe thead th {\n",
       "        text-align: right;\n",
       "    }\n",
       "</style>\n",
       "<table border=\"1\" class=\"dataframe\">\n",
       "  <thead>\n",
       "    <tr style=\"text-align: right;\">\n",
       "      <th></th>\n",
       "      <th>long_calles</th>\n",
       "    </tr>\n",
       "  </thead>\n",
       "  <tbody>\n",
       "    <tr>\n",
       "      <th>0</th>\n",
       "      <td>1280</td>\n",
       "    </tr>\n",
       "    <tr>\n",
       "      <th>1</th>\n",
       "      <td>5320</td>\n",
       "    </tr>\n",
       "    <tr>\n",
       "      <th>2</th>\n",
       "      <td>4390</td>\n",
       "    </tr>\n",
       "    <tr>\n",
       "      <th>3</th>\n",
       "      <td>2100</td>\n",
       "    </tr>\n",
       "    <tr>\n",
       "      <th>4</th>\n",
       "      <td>1240</td>\n",
       "    </tr>\n",
       "  </tbody>\n",
       "</table>\n",
       "</div>"
      ],
      "text/plain": [
       "   long_calles\n",
       "0         1280\n",
       "1         5320\n",
       "2         4390\n",
       "3         2100\n",
       "4         1240"
      ]
     },
     "execution_count": 84,
     "metadata": {},
     "output_type": "execute_result"
    }
   ],
   "source": [
    "df = pd.DataFrame({'long_calles':[1280, 5320, 4390, 2100, 1240, 3060, 4770, 1050, 360, 3330, 3380, 340, 1000, 960,\n",
    "        1320, 530, 3350, 540, 3870, 1250, 2400, 960, 1120, 2120, 450, 2250, 2320, 2400, \n",
    "        3150, 5700, 5220, 500, 1850, 2460, 5850, 2700, 2730, 1670, 100, 5770, 3150, 1890,\n",
    "        510, 240, 396, 1419, 2109]})\n",
    "df.head()"
   ]
  },
  {
   "cell_type": "code",
   "execution_count": 87,
   "metadata": {},
   "outputs": [
    {
     "data": {
      "text/plain": [
       "0     (1000, 2000]\n",
       "1     (5000, 6000]\n",
       "2     (4000, 5000]\n",
       "3     (2000, 3000]\n",
       "4     (1000, 2000]\n",
       "5     (3000, 4000]\n",
       "6     (4000, 5000]\n",
       "7     (1000, 2000]\n",
       "8        (0, 1000]\n",
       "9     (3000, 4000]\n",
       "10    (3000, 4000]\n",
       "11       (0, 1000]\n",
       "12       (0, 1000]\n",
       "13       (0, 1000]\n",
       "14    (1000, 2000]\n",
       "15       (0, 1000]\n",
       "16    (3000, 4000]\n",
       "17       (0, 1000]\n",
       "18    (3000, 4000]\n",
       "19    (1000, 2000]\n",
       "20    (2000, 3000]\n",
       "21       (0, 1000]\n",
       "22    (1000, 2000]\n",
       "23    (2000, 3000]\n",
       "24       (0, 1000]\n",
       "25    (2000, 3000]\n",
       "26    (2000, 3000]\n",
       "27    (2000, 3000]\n",
       "28    (3000, 4000]\n",
       "29    (5000, 6000]\n",
       "30    (5000, 6000]\n",
       "31       (0, 1000]\n",
       "32    (1000, 2000]\n",
       "33    (2000, 3000]\n",
       "34    (5000, 6000]\n",
       "35    (2000, 3000]\n",
       "36    (2000, 3000]\n",
       "37    (1000, 2000]\n",
       "38       (0, 1000]\n",
       "39    (5000, 6000]\n",
       "40    (3000, 4000]\n",
       "41    (1000, 2000]\n",
       "42       (0, 1000]\n",
       "43       (0, 1000]\n",
       "44       (0, 1000]\n",
       "45    (1000, 2000]\n",
       "46    (2000, 3000]\n",
       "Name: long_calles, dtype: category\n",
       "Categories (6, interval[int64, right]): [(0, 1000] < (1000, 2000] < (2000, 3000] < (3000, 4000] < (4000, 5000] < (5000, 6000]]"
      ]
     },
     "execution_count": 87,
     "metadata": {},
     "output_type": "execute_result"
    }
   ],
   "source": [
    "clases = pd.IntervalIndex.from_tuples([(0, 1000), (1000, 2000) ,(2000, 3000), (3000, 4000), (4000, 5000), (5000, 6000)])\n",
    "hist = pd.cut(df['long_calles'], bins = clases)\n",
    "hist"
   ]
  },
  {
   "cell_type": "code",
   "execution_count": 88,
   "metadata": {},
   "outputs": [
    {
     "data": {
      "text/plain": [
       "(0, 1000]       13\n",
       "(1000, 2000]    10\n",
       "(2000, 3000]    10\n",
       "(3000, 4000]     7\n",
       "(5000, 6000]     5\n",
       "(4000, 5000]     2\n",
       "Name: long_calles, dtype: int64"
      ]
     },
     "execution_count": 88,
     "metadata": {},
     "output_type": "execute_result"
    }
   ],
   "source": [
    "freq_rel = hist.value_counts()\n",
    "freq_rel"
   ]
  },
  {
   "cell_type": "code",
   "execution_count": 89,
   "metadata": {},
   "outputs": [
    {
     "data": {
      "text/html": [
       "<div>\n",
       "<style scoped>\n",
       "    .dataframe tbody tr th:only-of-type {\n",
       "        vertical-align: middle;\n",
       "    }\n",
       "\n",
       "    .dataframe tbody tr th {\n",
       "        vertical-align: top;\n",
       "    }\n",
       "\n",
       "    .dataframe thead th {\n",
       "        text-align: right;\n",
       "    }\n",
       "</style>\n",
       "<table border=\"1\" class=\"dataframe\">\n",
       "  <thead>\n",
       "    <tr style=\"text-align: right;\">\n",
       "      <th></th>\n",
       "      <th>longitudes</th>\n",
       "      <th>freq_relativa</th>\n",
       "    </tr>\n",
       "  </thead>\n",
       "  <tbody>\n",
       "    <tr>\n",
       "      <th>(0, 1000]</th>\n",
       "      <td>[0, 1000]</td>\n",
       "      <td>13</td>\n",
       "    </tr>\n",
       "    <tr>\n",
       "      <th>(1000, 2000]</th>\n",
       "      <td>(1000, 2000]</td>\n",
       "      <td>10</td>\n",
       "    </tr>\n",
       "    <tr>\n",
       "      <th>(2000, 3000]</th>\n",
       "      <td>(2000, 3000]</td>\n",
       "      <td>10</td>\n",
       "    </tr>\n",
       "    <tr>\n",
       "      <th>(3000, 4000]</th>\n",
       "      <td>(3000, 4000]</td>\n",
       "      <td>7</td>\n",
       "    </tr>\n",
       "    <tr>\n",
       "      <th>(5000, 6000]</th>\n",
       "      <td>(4000, 5000]</td>\n",
       "      <td>5</td>\n",
       "    </tr>\n",
       "    <tr>\n",
       "      <th>(4000, 5000]</th>\n",
       "      <td>(5000, 6000]</td>\n",
       "      <td>2</td>\n",
       "    </tr>\n",
       "  </tbody>\n",
       "</table>\n",
       "</div>"
      ],
      "text/plain": [
       "                longitudes  freq_relativa\n",
       "(0, 1000]        [0, 1000]             13\n",
       "(1000, 2000]  (1000, 2000]             10\n",
       "(2000, 3000]  (2000, 3000]             10\n",
       "(3000, 4000]  (3000, 4000]              7\n",
       "(5000, 6000]  (4000, 5000]              5\n",
       "(4000, 5000]  (5000, 6000]              2"
      ]
     },
     "execution_count": 89,
     "metadata": {},
     "output_type": "execute_result"
    }
   ],
   "source": [
    "df_hist = pd.DataFrame({'longitudes' : ['[0, 1000]','(1000, 2000]','(2000, 3000]','(3000, 4000]','(4000, 5000]','(5000, 6000]'],\n",
    "                        'freq_relativa': freq_rel})\n",
    "df_hist"
   ]
  },
  {
   "cell_type": "code",
   "execution_count": 91,
   "metadata": {},
   "outputs": [
    {
     "data": {
      "image/png": "[encoded data removed]",
      "text/plain": [
       "<Figure size 640x480 with 1 Axes>"
      ]
     },
     "metadata": {
      "filenames": {
       "image/png": "C:\\Users\\Usuario\\Documents\\UdeM\\repositorios_udem\\curso-estocasticos-udem\\_build\\jupyter_execute\\contenido\\p1_ch1_s3_26_0.png"
      }
     },
     "output_type": "display_data"
    }
   ],
   "source": [
    "df_hist.plot(kind='bar', \n",
    "             title ='Histograma de longitud total de calles dentro de una subdivisión',\n",
    "             x=\"longitudes\");\n"
   ]
  },
  {
   "cell_type": "markdown",
   "metadata": {},
   "source": [
    "##### Solución empleando Seaborn"
   ]
  },
  {
   "cell_type": "code",
   "execution_count": 101,
   "metadata": {},
   "outputs": [
    {
     "data": {
      "image/png": "[encoded data removed]",
      "text/plain": [
       "<Figure size 640x480 with 1 Axes>"
      ]
     },
     "metadata": {
      "filenames": {
       "image/png": "C:\\Users\\Usuario\\Documents\\UdeM\\repositorios_udem\\curso-estocasticos-udem\\_build\\jupyter_execute\\contenido\\p1_ch1_s3_28_0.png"
      }
     },
     "output_type": "display_data"
    }
   ],
   "source": [
    "ax = sns.histplot(data,\n",
    "             bins=[0,1000,2000,3000,4000,5000,6000],             \n",
    "             kde=True,\n",
    "             shrink=.8);\n",
    "ax.set(xlabel='Longitudes');"
   ]
  }
 ],
 "metadata": {
  "kernelspec": {
   "display_name": "Python 3.8.8 ('base')",
   "language": "python",
   "name": "python3"
  },
  "language_info": {
   "codemirror_mode": {
    "name": "ipython",
    "version": 3
   },
   "file_extension": ".py",
   "mimetype": "text/x-python",
   "name": "python",
   "nbconvert_exporter": "python",
   "pygments_lexer": "ipython3",
   "version": "3.7.10"
  },
  "vscode": {
   "interpreter": {
    "hash": "e06ff7da33dc9620448857a90ad8b5f428f0d573d205a934d2841c8aee45ea32"
   }
  },
  "widgets": {
   "application/vnd.jupyter.widget-state+json": {
    "state": {},
    "version_major": 2,
    "version_minor": 0
   }
  }
 },
 "nbformat": 4,
 "nbformat_minor": 4
}