{
 "cells": [
  {
   "cell_type": "code",
   "execution_count": 1,
   "metadata": {},
   "outputs": [],
   "source": [
    "import numpy as np\n",
    "import pandas as pd\n",
    "from scipy.stats import trim_mean"
   ]
  },
  {
   "cell_type": "code",
   "execution_count": 2,
   "metadata": {},
   "outputs": [],
   "source": [
    "from fractions import Fraction\n",
    "\n",
    "# Calculo de la probabilidad\n",
    "def P(event, space): \n",
    "    \"The probability of an event, given a sample space.\"\n",
    "    return Fraction(cases(favorable(event, space)), \n",
    "                    cases(space))\n",
    "\n",
    "favorable = set.intersection # Outcomes that are in the event and in the sample space\n",
    "cases     = len              # The number of cases is the length, or size, of a set"
   ]
  },
  {
   "cell_type": "markdown",
   "metadata": {},
   "source": [
    "# Eventos independientes y Mutuamente excluyentes"
   ]
  },
  {
   "cell_type": "markdown",
   "metadata": {},
   "source": [
    "## Probabilidad condicional\n",
    "\n",
    "```{admonition} Calculo de probabilidades condicionales\n",
    "Para encontrar la $P(A|B)$ se usa la expresión:\n",
    "\n",
    "$$P(A|B) = \\frac{P(A \\bigcap B)}{P(B)}$$\n",
    "\n",
    "Por otro lado, la probabilidad condicional $P(B|A)$ esta dada por:\n",
    "\n",
    "$$P(B|A) = \\frac{P(B \\bigcap A)}{P(A)}$$\n",
    "```"
   ]
  },
  {
   "cell_type": "markdown",
   "metadata": {},
   "source": [
    "### Ejemplo de repaso\n",
    "\n",
    "Las pautas médicas recomiendan que un paciente hospitalizado que sufre un paro cardíaco debe recibir una desfibrilación (descarga eléctrica en el corazón) dentro de los 2 minutos. El paper **\"Delayed Time to Defibrillation After In-Hospital Cardiac Arrest\" (The New England Journal of Medicine [2008]: 9–17)** ([link](https://www.nejm.org/doi/pdf/10.1056/NEJMoa0706467#:~:text=N%20Engl%20J%20Med%202008%3B358%3A9%2D17.&text=Expert%20guidelines%20advocate%20defibrillation%20within,effect%20on%20survival%20are%20limited)) describe un estudio del tiempo de desfibrilación para pacientes hospitalizados en hospitales de diferentes tamaños.\n",
    "\n",
    "Los autores examinaron los registros médicos de 6716 pacientes que sufrieron un paro cardíaco mientras estaban hospitalizados, registraron el tamaño del hospital y si la desfibrilación se produjo en 2 minutos o menos. Los datos de este estudio se resumen en la siguiente tabla:\n",
    "\n",
    "![tabla_infartos](p1_ch2_s2/ejemplo_prob_condicional.png)\n",
    "\n",
    "Suponiendo que estos datos son representativos del grupo más grande de todos los pacientes hospitalizados que sufren un paro cardíaco. Suponga que se selecciona al azar un paciente hospitalizado que sufrió un paro cardíaco. Si los siguientes eventos son de interés:\n",
    "* S = evento de que el paciente seleccionado se encuentre en un hospital pequeño.\n",
    "* M = evento de que el paciente seleccionado se encuentre en un hospital de tamaño medio.\n",
    "* L = evento de que el paciente seleccionado se encuentre en un hospital grande.\n",
    "* D = evento de que el paciente seleccionado reciba desfibrilación en dos minutos o menos.\n",
    "\n",
    "Calcular:\n",
    "1. La probabilidad de que un paciente hospitalizado reciba una desfibrilación de manera oportuna (en dos minutos o menos).\n",
    "   \n",
    "   A partir de la tabla realizamos el calculo:\n",
    "\n",
    "   $P(D)=\\frac{4689}{6716} = 0.698$\n",
    "  \n",
    "2. Si se selecciona un paciente que se encuentra dentro de un hospital pequeño, que tan probable es que dicho paciente reciba una desfibrilación en dos minutos o menos.\n",
    "\n",
    "   Tenemos que: $P(D|S)=\\frac{P(D \\bigcap S)}{P(S)}$\n",
    "\n",
    "   Primero se calcula la probabilidad de que el paciente hospitalizado en un hospital pequeño sufre el paro cardiaco y recibe la desfibrilación de manera oportuna:\n",
    "\n",
    "   $P(D \\bigcap S) = \\frac{1124}{6716} = 0.167$\n",
    "\n",
    "   Luego, la probabilidad de que el paciente que sufre el paro cardiado se encuentra hospitalizado en un hospital pequeño:\n",
    "\n",
    "   $P(S) = \\frac{1700}{6716}= 0.253$\n",
    "\n",
    "   Finalmente, usando estas dos expresiones calculamos la probabilidad condicional que se pide:\n",
    "\n",
    "   $P(D|S)=\\frac{P(D \\bigcap S)}{P(S)}=\\frac{0.167}{0.253} = 0.660$\n",
    "\n",
    "3. Cual es la probabilidad de recibir la desfibrilación dentro del tiempo adecuado para el caso en el cual el paciente es elegido den un hospital mediano.\n",
    "   \n",
    "   Nos piden: $P(D|M)$\n",
    "\n",
    "   $P(D|M)=\\frac{P(D \\bigcap M)}{P(M)}=\\frac{\\frac{2178}{6716}}{\\frac{3064}{6716}} = \\frac{2178}{3064} = 0.711$\n",
    "\n",
    "4. Cuando se selecciona el paciente de un hospital grande, ¿Cual es la probabilidad de que el paciente elegido reciba la desfibrilacion dentro del tiempo prudencial?\n",
    "   \n",
    "   En este caso se pide: $P(D|L)$\n",
    "\n",
    "   $P(D|L)=\\frac{P(D \\bigcap L)}{P(L)}=\\frac{\\frac{1387}{6716}}{\\frac{1952}{6716}} = \\frac{1387}{1952} = 0.711$"
   ]
  },
  {
   "cell_type": "markdown",
   "metadata": {},
   "source": [
    "## Tipos de eventos"
   ]
  },
  {
   "cell_type": "markdown",
   "metadata": {},
   "source": [
    "### Eventos independientes\n",
    "\n",
    "Dos eventos **$A$** y **$B$** son independientes si el conocimiento de que uno ha ocurrido no afecta la posibilidad de que ocurra el otro.\n",
    "\n",
    "```{admonition} Eventos independientes\n",
    "Si $A$ y $B$ son dos eventos independientes se cumple que:\n",
    "\n",
    "$$P(A|B) = P(A)$$\n",
    "\n",
    "$$P(B|A) = P(B)$$\n",
    "\n",
    "$$P(A \\bigcap B) = P(A)P(B)$$\n",
    "```\n",
    "\n",
    "Para demostrar que dos eventos son independientes, basta con demostrar **solo una** de las condiciones anteriormente mostradas."
   ]
  },
  {
   "cell_type": "code",
   "execution_count": 3,
   "metadata": {},
   "outputs": [
    {
     "name": "stdout",
     "output_type": "stream",
     "text": [
      "Resumen profundidades\n",
      "- Minimo: 40.0\n",
      "- Q1: 72.5\n",
      "- Mediana: 90.0\n",
      "- Q3: 96.5\n",
      "- Maximo: 125.0\n",
      "- IRQ: 24.0\n"
     ]
    }
   ],
   "source": [
    "# Usando numpy\n",
    "profundidad = np.array([40, 52, 55, 60, 70, 75, 85, 85, 90, 90, 92, 94, 94, 95, 98, 100, 115, 125, 125])\n",
    "min_prof = np.quantile(profundidad,q = 0.0) # np.percentile(profundidad,q = 0)\n",
    "max_prof = np.quantile(profundidad,q = 1.0) # np.percentile(profundidad,q = 100)\n",
    "Q1_prof = np.quantile(profundidad,q = 0.25) # np.percentile(profundidad,q = 25)\n",
    "Q3_prof = np.quantile(profundidad,q = 0.75) # np.percentile(profundidad,q = 75)\n",
    "median_prof = np.quantile(profundidad,q = 0.5) # np.median(profundidad)\n",
    "rango_prof = np.ptp(profundidad)\n",
    "print(\"Resumen profundidades\")\n",
    "print(\"- Minimo: \", min_prof, sep=\"\")\n",
    "print(\"- Q1: \", Q1_prof , sep=\"\")\n",
    "print(\"- Mediana: \", median_prof , sep=\"\")\n",
    "print(\"- Q3: \", Q3_prof , sep=\"\")\n",
    "print(\"- Maximo: \", max_prof, sep=\"\")\n",
    "print(\"- IRQ: \", Q3_prof - Q1_prof, sep=\"\")"
   ]
  },
  {
   "cell_type": "markdown",
   "metadata": {},
   "source": [
    "* https://github.com/jonkrohn/ML-foundations/blob/master/notebooks/5-probability.ipynb\n",
    "* https://github.com/jonkrohn/ML-foundations/blob/master/notebooks/6-statistics.ipynb\n",
    "* https://github.com/jonkrohn/ML-foundations\n",
    "* https://github.com/unpingco/Python-for-Probability-Statistics-and-Machine-Learning\n",
    "* https://github.com/Quantreo/UDEMY-STATISTIC-AND-PROBABILITY-for-quantitative-finance\n",
    "* https://github.com/ArmanBehnam/Courses\n",
    "* https://github.com/ElizaLo/Data-Science\n",
    "* https://github.com/Probability-Statistics-Jupyter-Notebook\n",
    "* https://ipython-books.github.io/154-computing-exact-probabilities-and-manipulating-random-variables/\n",
    "\n",
    "Otros\n",
    "\n",
    "* https://www.cs.rpi.edu/~zaki/DMML/slides/pdf/ychap18.pdf\n",
    "* https://rpubs.com/jreigarcia/irisdataset\n",
    "* https://medium.com/analytics-vidhya/first-step-to-statistics-with-iris-data-3d29c0820c5d\n",
    "* https://www.kaggle.com/code/neha99/statistical-analysis-on-iris-dataset\n",
    "* https://www.kaggle.com/code/hassanamin/probability-and-statistics-with-python\n",
    "* https://www.geeksforgeeks.org/exploratory-data-analysis-on-iris-dataset/\n",
    "* http://www.lac.inpe.br/~rafael.santos/Docs/CAP394/WholeStory-Iris.html\n",
    "* https://courses.cs.ut.ee/MTAT.03.183/2017_spring/uploads/Main/example_submission.html\n",
    "* https://www.humanitiesdataanalysis.org/index.html\n",
    "* https://www.cs.bu.edu/fac/snyder/cs237/tutorials/LearningPython.html\n",
    "* https://risk-engineering.org/notebook/coins-dice.html\n",
    "* https://web.stanford.edu/class/archive/cs/cs109/cs109.1192/handouts/pythonForProbability.html\n",
    "  "
   ]
  }
 ],
 "metadata": {
  "kernelspec": {
   "display_name": "Python 3.8.8 ('base')",
   "language": "python",
   "name": "python3"
  },
  "language_info": {
   "codemirror_mode": {
    "name": "ipython",
    "version": 3
   },
   "file_extension": ".py",
   "mimetype": "text/x-python",
   "name": "python",
   "nbconvert_exporter": "python",
   "pygments_lexer": "ipython3",
   "version": "3.9.13"
  },
  "vscode": {
   "interpreter": {
    "hash": "e06ff7da33dc9620448857a90ad8b5f428f0d573d205a934d2841c8aee45ea32"
   }
  },
  "widgets": {
   "application/vnd.jupyter.widget-state+json": {
    "state": {},
    "version_major": 2,
    "version_minor": 0
   }
  }
 },
 "nbformat": 4,
 "nbformat_minor": 4
}